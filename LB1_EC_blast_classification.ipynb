{
 "cells": [
  {
   "cell_type": "code",
   "execution_count": 1,
   "metadata": {},
   "outputs": [
    {
     "data": {
      "text/plain": [
       "<Handlers.SIG_IGN: 1>"
      ]
     },
     "execution_count": 1,
     "metadata": {},
     "output_type": "execute_result"
    }
   ],
   "source": [
    "# this avoids broken pipes by making the default system handler handle the SIGPIPE call\n",
    "# see https://stackoverflow.com/questions/14207708/ioerror-errno-32-broken-pipe-python\n",
    "from signal import signal, SIGPIPE, SIG_DFL\n",
    "signal(SIGPIPE, SIG_DFL)"
   ]
  },
  {
   "cell_type": "markdown",
   "metadata": {},
   "source": [
    "# Project-similar exercise in BLAST\n",
    "I want to find all the human and non-human Kunitz-containing proteins in SwissProt.\n",
    "I will use the non-human ones as a positive in the training set.\n",
    "I will generate a random set of proteins as a negative set, of the same size of the positive set.\n",
    "Finally, I will remove the training set from UniProt and perform a prediction based on a Blast Search."
   ]
  },
  {
   "cell_type": "markdown",
   "metadata": {},
   "source": [
    "## Find human and non-human Kunitz proteins in SwissProt\n",
    "I search on Uniprot all the human proteins in SwissProt containing the Kunitz domain.\n",
    "\n",
    "`reviewed:yes organism:\"Homo sapiens (Human) [9606]\" database:(type:pfam PF00014)`\n",
    "\n",
    "I retrieve 18 proteins. I download them in Fasta format."
   ]
  },
  {
   "cell_type": "code",
   "execution_count": 2,
   "metadata": {},
   "outputs": [
    {
     "name": "stdout",
     "output_type": "stream",
     "text": [
      ">sp|Q06481|APLP2_HUMAN Amyloid-like protein 2 OS=Homo sapiens OX=9606 GN=APLP2 PE=1 SV=2\n",
      "MAATGTAAAAATGRLLLLLLVGLTAPALALAGYIEALAANAGTGFAVAEPQIAMFCGKLN\n",
      "MHVNIQTGKWEPDPTGTKSCFETKEEVLQYCQEMYPELQITNVMEANQRVSIDNWCRRDK\n",
      "KQCKSRFVTPFKCLVGEFVSDVLLVPEKCQFFHKERMEVCENHQHWHTVVKEACLTQGMT\n",
      "LYSYGMLLPCGVDQFHGTEYVCCPQTKIIGSVSKEEEEEDEEEEEEEDEEEDYDVYKSEF\n",
      "PTEADLEDFTEAAVDEDDEDEEEGEEVVEDRDYYYDTFKGDDYNEENPTEPGSDGTMSDK\n",
      "EITHDVKAVCSQEAMTGPCRAVMPRWYFDLSKGKCVRFIYGGCGGNRNNFESEDYCMAVC\n",
      "KAMIPPTPLPTNDVDVYFETSADDNEHARFQKAKEQLEIRHRNRMDRVKKEWEEAELQAK\n",
      "NLPKAERQTLIQHFQAMVKALEKEAASEKQQLVETHLARVEAMLNDRRRMALENYLAALQ\n",
      "SDPPRPHRILQALRRYVRAENKDRLHTIRHYQHVLAVDPEKAAQMKSQVMTHLHVIEERR\n"
     ]
    }
   ],
   "source": [
    "!head human_SP_Kunitz.fasta"
   ]
  },
  {
   "cell_type": "code",
   "execution_count": 3,
   "metadata": {},
   "outputs": [
    {
     "name": "stdout",
     "output_type": "stream",
     "text": [
      "18\n"
     ]
    }
   ],
   "source": [
    "!cat human_SP_Kunitz.fasta|grep \">\"|wc -l"
   ]
  },
  {
   "cell_type": "markdown",
   "metadata": {},
   "source": [
    "I search on Uniprot all the non-human proteins in SwissProt containing the Kunitz domain.\n",
    "\n",
    "`database:(type:pfam pf00014) NOT organism:\"Homo sapiens (Human) [9606]\" AND reviewed:yes`\n",
    "\n",
    "I retrieve 341 proteins. I download them in Fasta format."
   ]
  },
  {
   "cell_type": "code",
   "execution_count": 4,
   "metadata": {},
   "outputs": [
    {
     "name": "stdout",
     "output_type": "stream",
     "text": [
      ">sp|P08592|A4_RAT Amyloid-beta A4 protein OS=Rattus norvegicus OX=10116 GN=App PE=1 SV=2\n",
      "MLPSLALLLLAAWTVRALEVPTDGNAGLLAEPQIAMFCGKLNMHMNVQNGKWESDPSGTK\n",
      "TCIGTKEGILQYCQEVYPELQITNVVEANQPVTIQNWCKRGRKQCKTHTHIVIPYRCLVG\n",
      "EFVSDALLVPDKCKFLHQERMDVCETHLHWHTVAKETCSEKSTNLHDYGMLLPCGIDKFR\n",
      "GVEFVCCPLAEESDSIDSADAEEDDSDVWWGGADTDYADGGEDKVVEVAEEEEVADVEEE\n",
      "EAEDDEDVEDGDEVEEEAEEPYEEATERTTSIATTTTTTTESVEEVVREVCSEQAETGPC\n",
      "RAMISRWYFDVTEGKCAPFFYGGCGGNRNNFDTEEYCMAVCGSVSSQSLLKTTSEPLPQD\n",
      "PVKLPTTAASTPDAVDKYLETPGDENEHAHFQKAKERLEAKHRERMSQVMREWEEAERQA\n",
      "KNLPKADKKAVIQHFQEKVESLEQEAANERQQLVETHMARVEAMLNDRRRLALENYITAL\n",
      "QAVPPRPHHVFNMLKKYVRAEQKDRQHTLKHFEHVRMVDPKKAAQIRSQVMTHLRVIYER\n"
     ]
    }
   ],
   "source": [
    "!head no_human_SP_Kunitz.fasta"
   ]
  },
  {
   "cell_type": "code",
   "execution_count": 5,
   "metadata": {},
   "outputs": [
    {
     "name": "stdout",
     "output_type": "stream",
     "text": [
      "341\n"
     ]
    }
   ],
   "source": [
    "!cat no_human_SP_Kunitz.fasta|grep \">\"|wc -l"
   ]
  },
  {
   "cell_type": "markdown",
   "metadata": {},
   "source": [
    "I search on Uniprot all the human proteins in SwissProt NOT containing the Kunitz domain.\n",
    "\n",
    "`NOT database:(type:pfam pf00014) AND organism:\"Homo sapiens (Human) [9606]\" AND reviewed:yes`\n",
    "\n",
    "I retrieve 20347 proteins. I download them in Fasta format."
   ]
  },
  {
   "cell_type": "code",
   "execution_count": 6,
   "metadata": {},
   "outputs": [
    {
     "name": "stdout",
     "output_type": "stream",
     "text": [
      ">sp|Q8N8B7|TEANC_HUMAN Transcription elongation factor A N-terminal and central domain-containing protein OS=Homo sapiens OX=9606 GN=TCEANC PE=1 SV=2\n",
      "MSDKNQIAARASLIEQLMSKRNFEDLGNHLTELETIYVTKEHLQETDVVRAVYRVLKNCP\n",
      "SVALKKKAKCLLSKWKAVYKQTHSKARNSPKLFPVRGNKEENSGPSHDPSQNETLGICSS\n",
      "NSLSSQDVAKLSEMIVPENRAIQLKPKEEHFGDGDPESTGKRSSELLDPTTPMRTKCIEL\n",
      "LYAALTSSSTDQPKADLWQNFAREIEEHVFTLYSKNIKKYKTCIRSKVANLKNPRNSHLQ\n",
      "QNLLSGTTSPREFAEMTVMEMANKELKQLRASYTESCIQEHYLPQVIDGTQTNKIKCRRC\n",
      "EKYNCKVTVIDRGTLFLPSWVRNSNPDEQMMTYVICNECGEQWYHSKWVCW\n",
      ">sp|O75494|SRS10_HUMAN Serine/arginine-rich splicing factor 10 OS=Homo sapiens OX=9606 GN=SRSF10 PE=1 SV=1\n",
      "MSRYLRPPNTSLFVRNVADDTRSEDLRREFGRYGPIVDVYVPLDFYTRRPRGFAYVQFED\n",
      "VRDAEDALHNLDRKWICGRQIEIQFAQGDRKTPNQMKAKEGRNVYSSSRYDDYDRYRRSR\n"
     ]
    }
   ],
   "source": [
    "!head human_SP_no_Kunitz.fasta"
   ]
  },
  {
   "cell_type": "code",
   "execution_count": 7,
   "metadata": {},
   "outputs": [
    {
     "name": "stdout",
     "output_type": "stream",
     "text": [
      "20347\n"
     ]
    }
   ],
   "source": [
    "!cat human_SP_no_Kunitz.fasta|grep \">\"|wc -l"
   ]
  },
  {
   "cell_type": "markdown",
   "metadata": {},
   "source": [
    "# Create BLAST database\n",
    "I create the blast database for the human SP proteins set. I decided to use the new version of BLAST, differently from the professor."
   ]
  },
  {
   "cell_type": "code",
   "execution_count": 8,
   "metadata": {},
   "outputs": [
    {
     "name": "stdout",
     "output_type": "stream",
     "text": [
      "\n",
      "\n",
      "Building a new DB, current time: 04/20/2020 09:50:01\n",
      "New DB name:   /home/saul/currently_working/LB1/exercises/8_blast_Kunitz/human_SP_Kunitz.fasta\n",
      "New DB title:  human_SP_Kunitz.fasta\n",
      "Sequence type: Protein\n",
      "Deleted existing Protein BLAST database named /home/saul/currently_working/LB1/exercises/8_blast_Kunitz/human_SP_Kunitz.fasta\n",
      "Keep MBits: T\n",
      "Maximum file size: 1000000000B\n",
      "Adding sequences from FASTA; added 18 sequences in 0.00696707 seconds.\n"
     ]
    }
   ],
   "source": [
    "!makeblastdb -in human_SP_Kunitz.fasta -dbtype prot"
   ]
  },
  {
   "cell_type": "markdown",
   "metadata": {},
   "source": [
    "# Create the training and testing sets\n",
    "The negative database `human_SP_no_Kunitz.fasta` contains 20347 proteins"
   ]
  },
  {
   "cell_type": "code",
   "execution_count": 9,
   "metadata": {},
   "outputs": [
    {
     "name": "stdout",
     "output_type": "stream",
     "text": [
      "20347\n"
     ]
    }
   ],
   "source": [
    "!grep \">\" human_SP_no_Kunitz.fasta|wc -l"
   ]
  },
  {
   "cell_type": "markdown",
   "metadata": {},
   "source": [
    "I want to split it more or less in half, so I decide to split at the 10000th sequence included.\n",
    "Now I want to determine at which line of the file shuold I split"
   ]
  },
  {
   "cell_type": "code",
   "execution_count": 10,
   "metadata": {},
   "outputs": [
    {
     "name": "stdout",
     "output_type": "stream",
     "text": [
      ">sp|O95081|AGFG2_HUMAN Arf-GAP domain and FG repeat-containing protein 2 OS=Homo sapiens OX=9606 GN=AGFG2 PE=1 SV=2\n",
      "109075:>sp|P32970|CD70_HUMAN CD70 antigen OS=Homo sapiens OX=9606 GN=CD70 PE=1 SV=2\n"
     ]
    }
   ],
   "source": [
    "!grep \">\" human_SP_no_Kunitz.fasta -m 10000|tail -1\n",
    "!grep \">\" human_SP_no_Kunitz.fasta -m 10001 -n|tail -1"
   ]
  },
  {
   "cell_type": "markdown",
   "metadata": {},
   "source": [
    "The 10000th protein, O95081, ends at line 109074 (1 minus where the next sequence starts)\n",
    "Now I split my negative database ."
   ]
  },
  {
   "cell_type": "code",
   "execution_count": 11,
   "metadata": {},
   "outputs": [
    {
     "name": "stdout",
     "output_type": "stream",
     "text": [
      ">sp|O95081|AGFG2_HUMAN Arf-GAP domain and FG repeat-containing protein 2 OS=Homo sapiens OX=9606 GN=AGFG2 PE=1 SV=2\n",
      ">sp|P32970|CD70_HUMAN CD70 antigen OS=Homo sapiens OX=9606 GN=CD70 PE=1 SV=2\n"
     ]
    }
   ],
   "source": [
    "!head -n 109074 human_SP_no_Kunitz.fasta  > human_SP_no_Kunitz_Training.fasta\n",
    "!tail  -n +109075 human_SP_no_Kunitz.fasta  > human_SP_no_Kunitz_Testing.fasta\n",
    "!grep \">\" human_SP_no_Kunitz_Training.fasta|tail -1\n",
    "!cat human_SP_no_Kunitz_Testing.fasta|head -1"
   ]
  },
  {
   "cell_type": "markdown",
   "metadata": {},
   "source": [
    "## Training and testing for the positives\n",
    "Professors used the same set for both training and testing (!) the positives.\n",
    "I will split them to do things better.\n",
    "The procedure is the same used for the negatives.\n",
    "The positive set is composed of not-human proteins with Kunitz domain."
   ]
  },
  {
   "cell_type": "code",
   "execution_count": 12,
   "metadata": {},
   "outputs": [
    {
     "name": "stdout",
     "output_type": "stream",
     "text": [
      "341\n"
     ]
    }
   ],
   "source": [
    "!grep \">\" no_human_SP_Kunitz.fasta|wc -l"
   ]
  },
  {
   "cell_type": "markdown",
   "metadata": {},
   "source": [
    "I want to split it more or less in half, so I decide to split at the 10000th sequence included.\n",
    "Now I want to determine at which line of the file shuold I split"
   ]
  },
  {
   "cell_type": "code",
   "execution_count": 13,
   "metadata": {},
   "outputs": [
    {
     "name": "stdout",
     "output_type": "stream",
     "text": [
      ">sp|O95081|AGFG2_HUMAN Arf-GAP domain and FG repeat-containing protein 2 OS=Homo sapiens OX=9606 GN=AGFG2 PE=1 SV=2\n",
      "109075:>sp|P32970|CD70_HUMAN CD70 antigen OS=Homo sapiens OX=9606 GN=CD70 PE=1 SV=2\n"
     ]
    }
   ],
   "source": [
    "!grep \">\" human_SP_no_Kunitz.fasta -m 10000|tail -1\n",
    "!grep \">\" human_SP_no_Kunitz.fasta -m 10001 -n|tail -1"
   ]
  },
  {
   "cell_type": "markdown",
   "metadata": {},
   "source": [
    "The 10000th protein, O95081, ends at line 109074 (1 minus where the next sequence starts)\n",
    "Now I split my negative database ."
   ]
  },
  {
   "cell_type": "code",
   "execution_count": 14,
   "metadata": {},
   "outputs": [
    {
     "name": "stdout",
     "output_type": "stream",
     "text": [
      ">sp|O95081|AGFG2_HUMAN Arf-GAP domain and FG repeat-containing protein 2 OS=Homo sapiens OX=9606 GN=AGFG2 PE=1 SV=2\n",
      ">sp|P32970|CD70_HUMAN CD70 antigen OS=Homo sapiens OX=9606 GN=CD70 PE=1 SV=2\n"
     ]
    }
   ],
   "source": [
    "!head -n 109074 human_SP_no_Kunitz.fasta  > human_SP_no_Kunitz_Training.fasta\n",
    "!tail  -n +109075 human_SP_no_Kunitz.fasta  > human_SP_no_Kunitz_Testing.fasta\n",
    "!grep \">\" human_SP_no_Kunitz_Training.fasta|tail -1\n",
    "!cat human_SP_no_Kunitz_Testing.fasta|head -1"
   ]
  },
  {
   "cell_type": "markdown",
   "metadata": {},
   "source": [
    "In the negative training set I have 10000 proteins, and 10347 in the testing set."
   ]
  },
  {
   "cell_type": "code",
   "execution_count": 15,
   "metadata": {},
   "outputs": [
    {
     "name": "stdout",
     "output_type": "stream",
     "text": [
      "10000\n",
      "10347\n"
     ]
    }
   ],
   "source": [
    "!grep \">\" human_SP_no_Kunitz_Training.fasta|wc -l\n",
    "!grep \">\" human_SP_no_Kunitz_Testing.fasta|wc -l"
   ]
  },
  {
   "cell_type": "markdown",
   "metadata": {},
   "source": [
    "# Blasting the database against itself\n",
    "I BLAST the positive set agaist itself for seeing what will be the range of E-value that I get. I increse the E-value threshold just for fun."
   ]
  },
  {
   "cell_type": "code",
   "execution_count": 16,
   "metadata": {},
   "outputs": [],
   "source": [
    "!#blastp -query human_SP_Kunitz.fasta -db human_SP_Kunitz.fasta -out autotest.bltab -outfmt 6 -evalue 1000 # -m 8 of the old version7"
   ]
  },
  {
   "cell_type": "markdown",
   "metadata": {},
   "source": [
    "These are the lines in which the first 2 columns are equal, and so they are self-matches."
   ]
  },
  {
   "cell_type": "code",
   "execution_count": 17,
   "metadata": {},
   "outputs": [
    {
     "name": "stdout",
     "output_type": "stream",
     "text": [
      "sp|Q06481|APLP2_HUMAN\tsp|Q06481|APLP2_HUMAN\t100.000\t763\t0\t0\t1\t763\t1\t763\t0.0\t1590\n",
      "sp|P05067|A4_HUMAN\tsp|P05067|A4_HUMAN\t100.000\t770\t0\t0\t1\t770\t1\t770\t0.0\t1610\n",
      "sp|Q02388|CO7A1_HUMAN\tsp|Q02388|CO7A1_HUMAN\t100.000\t2944\t0\t0\t1\t2944\t1\t2944\t0.0\t5494\n",
      "sp|P12111|CO6A3_HUMAN\tsp|P12111|CO6A3_HUMAN\t100.000\t3177\t0\t0\t1\t3177\t1\t3177\t0.0\t6455\n",
      "sp|P02760|AMBP_HUMAN\tsp|P02760|AMBP_HUMAN\t100.000\t352\t0\t0\t1\t352\t1\t352\t0.0\t734\n",
      "sp|O95925|EPPI_HUMAN\tsp|O95925|EPPI_HUMAN\t100.000\t133\t0\t0\t1\t133\t1\t133\t8.42e-100\t274\n",
      "sp|P10646|TFPI1_HUMAN\tsp|P10646|TFPI1_HUMAN\t100.000\t304\t0\t0\t1\t304\t1\t304\t0.0\t630\n",
      "sp|O43278|SPIT1_HUMAN\tsp|O43278|SPIT1_HUMAN\t100.000\t529\t0\t0\t1\t529\t1\t529\t0.0\t1099\n",
      "sp|O43291|SPIT2_HUMAN\tsp|O43291|SPIT2_HUMAN\t100.000\t252\t0\t0\t1\t252\t1\t252\t0.0\t521\n",
      "sp|P48307|TFPI2_HUMAN\tsp|P48307|TFPI2_HUMAN\t100.000\t235\t0\t0\t1\t235\t1\t235\t2.53e-180\t486\n",
      "sp|Q8TEU8|WFKN2_HUMAN\tsp|Q8TEU8|WFKN2_HUMAN\t100.000\t576\t0\t0\t1\t576\t1\t576\t0.0\t1199\n",
      "sp|Q2UY09|COSA1_HUMAN\tsp|Q2UY09|COSA1_HUMAN\t100.000\t1125\t0\t0\t1\t1125\t1\t1125\t0.0\t2187\n",
      "sp|Q96NZ8|WFKN1_HUMAN\tsp|Q96NZ8|WFKN1_HUMAN\t100.000\t548\t0\t0\t1\t548\t1\t548\t0.0\t1112\n",
      "sp|O95428|PPN_HUMAN\tsp|O95428|PPN_HUMAN\t100.000\t1278\t0\t0\t1\t1278\t1\t1278\t0.0\t2586\n",
      "sp|Q9BQY6|WFDC6_HUMAN\tsp|Q9BQY6|WFDC6_HUMAN\t100.000\t131\t0\t0\t1\t131\t1\t131\t1.27e-98\t270\n",
      "sp|Q8IUA0|WFDC8_HUMAN\tsp|Q8IUA0|WFDC8_HUMAN\t100.000\t241\t0\t0\t1\t241\t1\t241\t0.0\t492\n",
      "sp|P49223|SPIT3_HUMAN\tsp|P49223|SPIT3_HUMAN\t100.000\t89\t0\t0\t1\t89\t1\t89\t4.67e-65\t182\n",
      "sp|Q6UDR6|SPIT4_HUMAN\tsp|Q6UDR6|SPIT4_HUMAN\t100.000\t99\t0\t0\t1\t99\t1\t99\t2.56e-72\t201\n"
     ]
    }
   ],
   "source": [
    "!awk '{if ($1==$2) print $0}' autotest.bltab"
   ]
  },
  {
   "cell_type": "markdown",
   "metadata": {},
   "source": [
    "I sort the results of BLAST on column 11, so to reverse-order by E-value."
   ]
  },
  {
   "cell_type": "code",
   "execution_count": 18,
   "metadata": {},
   "outputs": [
    {
     "name": "stdout",
     "output_type": "stream",
     "text": [
      "sp|P48307|TFPI2_HUMAN\tsp|P05067|A4_HUMAN\t27.273\t11\t8\t0\t154\t164\t551\t561\t999\t11.5\n",
      "sp|P05067|A4_HUMAN\tsp|P12111|CO6A3_HUMAN\t22.222\t45\t33\t1\t251\t295\t1752\t1794\t999\t13.5\n",
      "sp|O95925|EPPI_HUMAN\tsp|O43278|SPIT1_HUMAN\t30.000\t10\t7\t0\t56\t65\t432\t441\t999\t10.8\n",
      "sp|Q8TEU8|WFKN2_HUMAN\tsp|Q02388|CO7A1_HUMAN\t37.500\t16\t10\t0\t97\t112\t2341\t2356\t998\t13.1\n",
      "sp|Q2UY09|COSA1_HUMAN\tsp|Q02388|CO7A1_HUMAN\t54.545\t11\t5\t0\t495\t505\t932\t942\t998\t13.9\n",
      "sp|Q2UY09|COSA1_HUMAN\tsp|P12111|CO6A3_HUMAN\t50.000\t10\t5\t0\t279\t288\t134\t143\t998\t13.9\n",
      "sp|Q02388|CO7A1_HUMAN\tsp|P49223|SPIT3_HUMAN\t38.462\t13\t8\t0\t1425\t1437\t32\t44\t998\t15.0\n",
      "sp|P48307|TFPI2_HUMAN\tsp|P02760|AMBP_HUMAN\t23.810\t21\t16\t0\t164\t184\t72\t92\t997\t11.5\n",
      "sp|O43291|SPIT2_HUMAN\tsp|O95428|PPN_HUMAN\t40.000\t15\t9\t0\t60\t74\t178\t192\t996\t11.5\n",
      "sp|P12111|CO6A3_HUMAN\tsp|O95428|PPN_HUMAN\t71.429\t7\t2\t0\t2160\t2166\t983\t989\t995\t15.4\n"
     ]
    }
   ],
   "source": [
    "!sort -grk 11 autotest.bltab|head"
   ]
  },
  {
   "cell_type": "markdown",
   "metadata": {},
   "source": [
    "# Training"
   ]
  },
  {
   "cell_type": "markdown",
   "metadata": {},
   "source": [
    "## Positive training set\n",
    "Now I BLAST the positive training set (not human Kunitz).\n",
    "It is slow, don't run just for fun. This is why I am commenting it.\n",
    "I sort by best E-value and print the first proteins."
   ]
  },
  {
   "cell_type": "code",
   "execution_count": 19,
   "metadata": {},
   "outputs": [],
   "source": [
    "!#blastp -query no_human_SP_Kunitz.fasta -db human_SP_Kunitz.fasta -out positive_training.bltab -outfmt 6"
   ]
  },
  {
   "cell_type": "code",
   "execution_count": 20,
   "metadata": {},
   "outputs": [
    {
     "name": "stdout",
     "output_type": "stream",
     "text": [
      "sp|P00978|AMBP_BOVIN\tsp|P02760|AMBP_HUMAN\t77.273\t352\t80\t0\t1\t352\t1\t352\t0.0\t561\n",
      "sp|P04366|AMBP_PIG\tsp|P02760|AMBP_HUMAN\t80.655\t336\t65\t0\t2\t337\t17\t352\t0.0\t581\n",
      "sp|P08592|A4_RAT\tsp|P05067|A4_HUMAN\t96.883\t770\t24\t0\t1\t770\t1\t770\t0.0\t1557\n",
      "sp|P08592|A4_RAT\tsp|Q06481|APLP2_HUMAN\t49.873\t790\t320\t17\t3\t769\t26\t762\t0.0\t716\n",
      "sp|P0C5J5|WFKN1_RAT\tsp|Q8TEU8|WFKN2_HUMAN\t56.691\t538\t209\t8\t31\t550\t41\t572\t0.0\t607\n",
      "sp|P0C5J5|WFKN1_RAT\tsp|Q96NZ8|WFKN1_HUMAN\t87.992\t533\t63\t1\t20\t552\t17\t548\t0.0\t939\n",
      "sp|P12023|A4_MOUSE\tsp|P05067|A4_HUMAN\t96.623\t770\t26\t0\t1\t770\t1\t770\t0.0\t1551\n",
      "sp|P12023|A4_MOUSE\tsp|Q06481|APLP2_HUMAN\t50.253\t790\t317\t17\t3\t769\t26\t762\t0.0\t721\n",
      "sp|P15943|APLP2_RAT\tsp|Q06481|APLP2_HUMAN\t92.318\t742\t51\t2\t26\t765\t26\t763\t0.0\t1340\n",
      "sp|P15989|CO6A3_CHICK\tsp|P12111|CO6A3_HUMAN\t65.153\t2884\t977\t11\t1\t2873\t1\t2867\t0.0\t3726\n"
     ]
    }
   ],
   "source": [
    "!sort -gk 11 positive_training_testing.bltab|head"
   ]
  },
  {
   "cell_type": "markdown",
   "metadata": {},
   "source": [
    "For each protein in the query, I want to find the best E-value possible.\n",
    "I create an awk array with the first column as index, so to collapse duplicates and store the best E-value.\n",
    "I output an identical bltab file but filtered to have just the best match for each sequence.\n",
    "The filtered output contains 341 alignments, which is the same number of the number of unique indentifiers in the original file."
   ]
  },
  {
   "cell_type": "code",
   "execution_count": 21,
   "metadata": {},
   "outputs": [],
   "source": [
    "!cat positive_training_testing.bltab|awk \\\n",
    "'{\\\n",
    "query=$1;\\\n",
    "if (!(query in out) || $11 < evalue[query])\\\n",
    "    {evalue[query]=$11; out[query]=$0}\\\n",
    "}\\\n",
    "END{for(key in out){print out[key]}}'\\\n",
    "> positive_training_testing_topscores.bltab"
   ]
  },
  {
   "cell_type": "code",
   "execution_count": 22,
   "metadata": {},
   "outputs": [
    {
     "name": "stdout",
     "output_type": "stream",
     "text": [
      "sp|D3GGZ8|BLI5_HAECO\tsp|Q2UY09|COSA1_HUMAN\t23.944\t71\t41\t4\t125\t191\t1062\t1123\t0.045\t25.0\n",
      "sp|O62247|BLI5_CAEEL\tsp|Q96NZ8|WFKN1_HUMAN\t29.167\t72\t48\t2\t115\t184\t339\t409\t2.44e-04\t32.0\n",
      "sp|Q11101|YL15_CAEEL\tsp|P05067|A4_HUMAN\t37.500\t40\t25\t0\t38\t77\t305\t344\t1.85e-07\t41.2\n",
      "sp|P86963|KCP2_PINMA\tsp|P12111|CO6A3_HUMAN\t36.207\t58\t30\t2\t98\t153\t3112\t3164\t1.33e-07\t43.9\n",
      "sp|P0CAR0|VKTG1_MICPY\tsp|P12111|CO6A3_HUMAN\t44.828\t29\t16\t0\t6\t34\t3112\t3140\t6.47e-08\t37.0\n",
      "sp|P0CH75|VKT25_CYRHA\tsp|P12111|CO6A3_HUMAN\t44.118\t34\t17\t1\t2\t33\t3110\t3143\t1.01e-09\t42.0\n",
      "sp|Q2ES49|VKT2_DABRR\tsp|P10646|TFPI1_HUMAN\t38.596\t57\t35\t0\t25\t81\t119\t175\t6.96e-10\t44.7\n",
      "sp|G9I929|VKTA_MICTN\tsp|P10646|TFPI1_HUMAN\t35.484\t62\t35\t2\t24\t83\t118\t176\t6.31e-10\t45.1\n",
      "sp|C0LNR2|VKT_VESBI\tsp|O95428|PPN_HUMAN\t38.710\t62\t33\t2\t20\t76\t743\t804\t9.51e-11\t47.0\n",
      "sp|Q7Z1K3|ANIS1_ANISI\tsp|Q02388|CO7A1_HUMAN\t41.558\t77\t34\t4\t28\t101\t2876\t2944\t5.74e-11\t52.0\n",
      "341 positive_training_testing_topscores.bltab\n",
      "341\n"
     ]
    }
   ],
   "source": [
    "!cat positive_training_testing_topscores.bltab|sort -rgk 11|head # worst best scores for each sequence\n",
    "!wc -l positive_training_testing_topscores.bltab\n",
    "!cat positive_training_testing.bltab|awk '{print $1}'|sort -u|wc -l #number of unique queries in the original BLAST output"
   ]
  },
  {
   "cell_type": "markdown",
   "metadata": {},
   "source": [
    "## Summary of positive training\n",
    "The worst top score for a sequence in the positive training set is 0.045, followed by e-04 and e-07.\n",
    "In total I have 341 unique sequences in the query."
   ]
  },
  {
   "cell_type": "markdown",
   "metadata": {},
   "source": [
    "## Negative training set\n",
    "Now I BLAST the negative training set (human not Kunitz training).\n",
    "It is slow, don't run just for fun. This is why I am commenting it.\n",
    "I sort by best E-value and print the first proteins.\n",
    "I need to set an high E-value threshold otherwise I don't get an hit for all the sequences.\n",
    "However, even with a 1000 thershold I am still missing 2 sequences (9998 unique hits).\n",
    "I will never be able to compute with an higher threshold."
   ]
  },
  {
   "cell_type": "code",
   "execution_count": 23,
   "metadata": {},
   "outputs": [],
   "source": [
    "!#blastp -query human_SP_no_Kunitz_Training.fasta -db human_SP_Kunitz.fasta -out negative_training.bltab -outfmt 6 -evalue 100"
   ]
  },
  {
   "cell_type": "code",
   "execution_count": 24,
   "metadata": {},
   "outputs": [
    {
     "name": "stdout",
     "output_type": "stream",
     "text": [
      "sp|A6NMZ7|CO6A6_HUMAN\tsp|P12111|CO6A3_HUMAN\t32.954\t2282\t1363\t40\t27\t2221\t639\t2840\t0.0\t1042\n",
      "sp|A8TX70|CO6A5_HUMAN\tsp|P12111|CO6A3_HUMAN\t31.051\t2235\t1320\t51\t30\t2130\t639\t2786\t0.0\t927\n",
      "sp|A6NMZ7|CO6A6_HUMAN\tsp|P12111|CO6A3_HUMAN\t28.559\t1194\t795\t25\t26\t1181\t38\t1211\t5.81e-140\t480\n",
      "sp|P51693|APLP1_HUMAN\tsp|Q06481|APLP2_HUMAN\t35.109\t732\t350\t19\t37\t648\t34\t760\t3.59e-126\t383\n",
      "sp|A8TX70|CO6A5_HUMAN\tsp|P12111|CO6A3_HUMAN\t27.288\t1180\t802\t28\t29\t1172\t38\t1197\t2.94e-121\t421\n",
      "sp|A6NMZ7|CO6A6_HUMAN\tsp|P12111|CO6A3_HUMAN\t28.182\t1100\t704\t31\t226\t1272\t36\t1102\t2.43e-110\t385\n",
      "sp|Q9UKP5|ATS6_HUMAN\tsp|O95428|PPN_HUMAN\t40.202\t495\t274\t11\t561\t1045\t29\t511\t2.62e-108\t359\n",
      "sp|Q8TE60|ATS18_HUMAN\tsp|O95428|PPN_HUMAN\t36.842\t532\t306\t11\t592\t1115\t29\t538\t1.04e-102\t345\n",
      "sp|Q9H324|ATS10_HUMAN\tsp|O95428|PPN_HUMAN\t37.996\t529\t306\t12\t550\t1064\t29\t549\t6.93e-99\t332\n",
      "sp|Q8TE57|ATS16_HUMAN\tsp|O95428|PPN_HUMAN\t36.684\t567\t320\t16\t589\t1133\t29\t578\t5.59e-96\t326\n"
     ]
    }
   ],
   "source": [
    "!sort -gk 11 negative_training.bltab|head"
   ]
  },
  {
   "cell_type": "markdown",
   "metadata": {},
   "source": [
    "The first 2 sequences are strange. They have 0 E-value and their names seem to be really similar."
   ]
  },
  {
   "cell_type": "markdown",
   "metadata": {},
   "source": [
    "For each protein in the query, I want to find the best E-value possible.\n",
    "I create an awk array with the first column as index, so to collapse duplicates and store the best E-value.\n",
    "I output an identical bltab file but filtered to have just the best match for each sequence.\n",
    "The filtered output contains 9998 alignments, which is the same number of the number of unique indentifiers in the original file."
   ]
  },
  {
   "cell_type": "code",
   "execution_count": 25,
   "metadata": {},
   "outputs": [],
   "source": [
    "!cat negative_training.bltab|awk \\\n",
    "'{\\\n",
    "query=$1;\\\n",
    "if (!(query in out) || $11 < evalue[query])\\\n",
    "    {evalue[query]=$11; out[query]=$0}\\\n",
    "}\\\n",
    "END{for(key in out){print out[key]}}'\\\n",
    "> negative_training_topscores.bltab"
   ]
  },
  {
   "cell_type": "code",
   "execution_count": 26,
   "metadata": {},
   "outputs": [
    {
     "name": "stdout",
     "output_type": "stream",
     "text": [
      "sp|A6NMZ7|CO6A6_HUMAN\tsp|P12111|CO6A3_HUMAN\t32.954\t2282\t1363\t40\t27\t2221\t639\t2840\t0.0\t1042\n",
      "sp|A8TX70|CO6A5_HUMAN\tsp|P12111|CO6A3_HUMAN\t31.051\t2235\t1320\t51\t30\t2130\t639\t2786\t0.0\t927\n",
      "sp|P51693|APLP1_HUMAN\tsp|Q06481|APLP2_HUMAN\t35.109\t732\t350\t19\t37\t648\t34\t760\t3.59e-126\t383\n",
      "sp|Q9UKP5|ATS6_HUMAN\tsp|O95428|PPN_HUMAN\t40.202\t495\t274\t11\t561\t1045\t29\t511\t2.62e-108\t359\n",
      "sp|Q8TE60|ATS18_HUMAN\tsp|O95428|PPN_HUMAN\t36.842\t532\t306\t11\t592\t1115\t29\t538\t1.04e-102\t345\n",
      "sp|Q9H324|ATS10_HUMAN\tsp|O95428|PPN_HUMAN\t37.996\t529\t306\t12\t550\t1064\t29\t549\t6.93e-99\t332\n",
      "sp|Q8TE57|ATS16_HUMAN\tsp|O95428|PPN_HUMAN\t36.684\t567\t320\t16\t589\t1133\t29\t578\t5.59e-96\t326\n",
      "sp|Q05707|COEA1_HUMAN\tsp|Q02388|CO7A1_HUMAN\t30.752\t891\t550\t26\t148\t1019\t28\t870\t4.38e-94\t330\n",
      "sp|Q99715|COCA1_HUMAN\tsp|Q02388|CO7A1_HUMAN\t30.604\t1026\t643\t34\t1192\t2180\t31\t1024\t7.58e-92\t325\n",
      "sp|Q9UKP4|ATS7_HUMAN\tsp|O95428|PPN_HUMAN\t41.761\t443\t233\t13\t541\t974\t29\t455\t9.88e-89\t308\n",
      "9998 negative_training_topscores.bltab\n",
      "9998\n"
     ]
    }
   ],
   "source": [
    "!cat negative_training_topscores.bltab|sort -gk 11|head # best E-values of the negatives\n",
    "!wc -l negative_training_topscores.bltab\n",
    "!cat negative_training.bltab|awk '{print $1}'|sort -u|wc -l #number of unique queries in the original BLAST output"
   ]
  },
  {
   "cell_type": "markdown",
   "metadata": {},
   "source": [
    "## Summary of negative training\n",
    "The top score for a sequence in the negative training set is 0, and there are many scores around e-100."
   ]
  },
  {
   "cell_type": "markdown",
   "metadata": {},
   "source": [
    "# Finding the thresholds\n",
    "Now I play with the E-value thresholds on the positive set to see how many true positive I can catch with different thresholds.\n",
    "I work with the topscores files so that it is quicker.\n",
    "I am actually intersted at the best alignment for each sequence.\n",
    "I use awk for filtering.\n",
    "Setting 10 as a threshold I get all the 341 proteins, while setting 0.001 I get 340 of them, loosing the one with E-value of 0.045.\n",
    "Note that the only meaningful value is that under the E-value threshold, not above.\n",
    "This is because I can have as many hits as I want above!\n",
    "However, If I take the best it for each sequence the total number of hits is the same af the number of sequences, so I can also use the above-threshold value."
   ]
  },
  {
   "cell_type": "code",
   "execution_count": 27,
   "metadata": {},
   "outputs": [
    {
     "name": "stdout",
     "output_type": "stream",
     "text": [
      "sp|D3GGZ8|BLI5_HAECO\tsp|Q2UY09|COSA1_HUMAN\t23.944\t71\t41\t4\t125\t191\t1062\t1123\t0.045\t25.0\n",
      "sp|O62247|BLI5_CAEEL\tsp|Q96NZ8|WFKN1_HUMAN\t29.167\t72\t48\t2\t115\t184\t339\t409\t2.44e-04\t32.0\n",
      "sp|Q11101|YL15_CAEEL\tsp|P05067|A4_HUMAN\t37.500\t40\t25\t0\t38\t77\t305\t344\t1.85e-07\t41.2\n",
      "sp|P86963|KCP2_PINMA\tsp|P12111|CO6A3_HUMAN\t36.207\t58\t30\t2\t98\t153\t3112\t3164\t1.33e-07\t43.9\n",
      "sp|P0CAR0|VKTG1_MICPY\tsp|P12111|CO6A3_HUMAN\t44.828\t29\t16\t0\t6\t34\t3112\t3140\t6.47e-08\t37.0\n",
      "sp|P0CH75|VKT25_CYRHA\tsp|P12111|CO6A3_HUMAN\t44.118\t34\t17\t1\t2\t33\t3110\t3143\t1.01e-09\t42.0\n",
      "sp|Q2ES49|VKT2_DABRR\tsp|P10646|TFPI1_HUMAN\t38.596\t57\t35\t0\t25\t81\t119\t175\t6.96e-10\t44.7\n",
      "sp|G9I929|VKTA_MICTN\tsp|P10646|TFPI1_HUMAN\t35.484\t62\t35\t2\t24\t83\t118\t176\t6.31e-10\t45.1\n",
      "sp|C0LNR2|VKT_VESBI\tsp|O95428|PPN_HUMAN\t38.710\t62\t33\t2\t20\t76\t743\t804\t9.51e-11\t47.0\n",
      "sp|Q7Z1K3|ANIS1_ANISI\tsp|Q02388|CO7A1_HUMAN\t41.558\t77\t34\t4\t28\t101\t2876\t2944\t5.74e-11\t52.0\n",
      "    341   29315\n"
     ]
    }
   ],
   "source": [
    "!cat positive_training_testing_topscores.bltab|awk '{if ($11<10) print $0}'|sort -rgk 11|head\n",
    "!cat positive_training_testing_topscores.bltab|awk '{if ($11<10) print $0}'|wc -lc"
   ]
  },
  {
   "cell_type": "code",
   "execution_count": 28,
   "metadata": {},
   "outputs": [
    {
     "name": "stdout",
     "output_type": "stream",
     "text": [
      "sp|O62247|BLI5_CAEEL\tsp|Q96NZ8|WFKN1_HUMAN\t29.167\t72\t48\t2\t115\t184\t339\t409\t2.44e-04\t32.0\n",
      "sp|Q11101|YL15_CAEEL\tsp|P05067|A4_HUMAN\t37.500\t40\t25\t0\t38\t77\t305\t344\t1.85e-07\t41.2\n",
      "sp|P86963|KCP2_PINMA\tsp|P12111|CO6A3_HUMAN\t36.207\t58\t30\t2\t98\t153\t3112\t3164\t1.33e-07\t43.9\n",
      "sp|P0CAR0|VKTG1_MICPY\tsp|P12111|CO6A3_HUMAN\t44.828\t29\t16\t0\t6\t34\t3112\t3140\t6.47e-08\t37.0\n",
      "sp|P0CH75|VKT25_CYRHA\tsp|P12111|CO6A3_HUMAN\t44.118\t34\t17\t1\t2\t33\t3110\t3143\t1.01e-09\t42.0\n",
      "sp|Q2ES49|VKT2_DABRR\tsp|P10646|TFPI1_HUMAN\t38.596\t57\t35\t0\t25\t81\t119\t175\t6.96e-10\t44.7\n",
      "sp|G9I929|VKTA_MICTN\tsp|P10646|TFPI1_HUMAN\t35.484\t62\t35\t2\t24\t83\t118\t176\t6.31e-10\t45.1\n",
      "sp|C0LNR2|VKT_VESBI\tsp|O95428|PPN_HUMAN\t38.710\t62\t33\t2\t20\t76\t743\t804\t9.51e-11\t47.0\n",
      "sp|Q7Z1K3|ANIS1_ANISI\tsp|Q02388|CO7A1_HUMAN\t41.558\t77\t34\t4\t28\t101\t2876\t2944\t5.74e-11\t52.0\n",
      "sp|P0DMW9|VKT34_ACTEQ\tsp|O43291|SPIT2_HUMAN\t51.429\t35\t17\t0\t3\t37\t35\t69\t1.39e-11\t47.4\n",
      "340\n"
     ]
    }
   ],
   "source": [
    "!cat positive_training_testing_topscores.bltab|awk '{if ($11<1e-03) print $0}'|sort -rgk 11|head\n",
    "!cat positive_training_testing_topscores.bltab|awk '{if ($11<1e-03) print $0}'|wc -l"
   ]
  },
  {
   "cell_type": "markdown",
   "metadata": {},
   "source": [
    "I can do the same with the negative training set. I want the number of proteins with E-value lower than the threshold to be as low as possible."
   ]
  },
  {
   "cell_type": "code",
   "execution_count": 29,
   "metadata": {},
   "outputs": [
    {
     "name": "stdout",
     "output_type": "stream",
     "text": [
      "sp|A6NMZ7|CO6A6_HUMAN\tsp|P12111|CO6A3_HUMAN\t32.954\t2282\t1363\t40\t27\t2221\t639\t2840\t0.0\t1042\n",
      "sp|A8TX70|CO6A5_HUMAN\tsp|P12111|CO6A3_HUMAN\t31.051\t2235\t1320\t51\t30\t2130\t639\t2786\t0.0\t927\n",
      "sp|P51693|APLP1_HUMAN\tsp|Q06481|APLP2_HUMAN\t35.109\t732\t350\t19\t37\t648\t34\t760\t3.59e-126\t383\n",
      "sp|Q9UKP5|ATS6_HUMAN\tsp|O95428|PPN_HUMAN\t40.202\t495\t274\t11\t561\t1045\t29\t511\t2.62e-108\t359\n",
      "sp|Q8TE60|ATS18_HUMAN\tsp|O95428|PPN_HUMAN\t36.842\t532\t306\t11\t592\t1115\t29\t538\t1.04e-102\t345\n",
      "sp|Q9H324|ATS10_HUMAN\tsp|O95428|PPN_HUMAN\t37.996\t529\t306\t12\t550\t1064\t29\t549\t6.93e-99\t332\n",
      "sp|Q8TE57|ATS16_HUMAN\tsp|O95428|PPN_HUMAN\t36.684\t567\t320\t16\t589\t1133\t29\t578\t5.59e-96\t326\n",
      "sp|Q05707|COEA1_HUMAN\tsp|Q02388|CO7A1_HUMAN\t30.752\t891\t550\t26\t148\t1019\t28\t870\t4.38e-94\t330\n",
      "sp|Q99715|COCA1_HUMAN\tsp|Q02388|CO7A1_HUMAN\t30.604\t1026\t643\t34\t1192\t2180\t31\t1024\t7.58e-92\t325\n",
      "sp|Q9UKP4|ATS7_HUMAN\tsp|O95428|PPN_HUMAN\t41.761\t443\t233\t13\t541\t974\t29\t455\t9.88e-89\t308\n",
      "302\n"
     ]
    }
   ],
   "source": [
    "!cat negative_training_topscores.bltab|awk '{if ($11<1e-03) print $0}'|sort -gk 11|head\n",
    "!cat negative_training_topscores.bltab|awk '{if ($11<1e-03) print $0}'|wc -l"
   ]
  },
  {
   "cell_type": "markdown",
   "metadata": {},
   "source": [
    "Now I play with different levels and see what happens. The numbers are:\n",
    "* true positives\n",
    "* true negatives-2 (9998 instead of 10000 sequences in the blast output)\n",
    "* false negatives\n",
    "* false positives"
   ]
  },
  {
   "cell_type": "markdown",
   "metadata": {},
   "source": [
    "Threshold too high: I catch all the true positives but miss all the true negatives"
   ]
  },
  {
   "cell_type": "code",
   "execution_count": 30,
   "metadata": {},
   "outputs": [
    {
     "name": "stdout",
     "output_type": "stream",
     "text": [
      "341\n",
      "0\n",
      "0\n",
      "9998\n"
     ]
    }
   ],
   "source": [
    "%%bash\n",
    "THRESHOLD=10000\n",
    "cat positive_training_testing_topscores.bltab|awk -v x=$THRESHOLD '{if ($11<=x) print $0}'|wc -l #true positives\n",
    "cat negative_training_topscores.bltab|awk -v x=$THRESHOLD '{if ($11>=x) print $0}'|wc -l #true negatives\n",
    "cat positive_training_testing_topscores.bltab|awk -v x=$THRESHOLD '{if ($11>x) print $0}'|wc -l #false negatives\n",
    "cat negative_training_topscores.bltab|awk -v x=$THRESHOLD '{if ($11<x) print $0}'|wc -l #false positives-2"
   ]
  },
  {
   "cell_type": "markdown",
   "metadata": {},
   "source": [
    "Threshold too low: I catch all the true negatives but miss all the true positives"
   ]
  },
  {
   "cell_type": "code",
   "execution_count": 31,
   "metadata": {},
   "outputs": [
    {
     "name": "stdout",
     "output_type": "stream",
     "text": [
      "0\n",
      "9998\n",
      "341\n",
      "0\n"
     ]
    }
   ],
   "source": [
    "%%bash\n",
    "THRESHOLD=-1\n",
    "cat positive_training_testing_topscores.bltab|awk -v x=$THRESHOLD '{if ($11<=x) print $0}'|wc -l #true positives\n",
    "cat negative_training_topscores.bltab|awk -v x=$THRESHOLD '{if ($11>=x) print $0}'|wc -l #true negatives-2\n",
    "cat positive_training_testing_topscores.bltab|awk -v x=$THRESHOLD '{if ($11>x) print $0}'|wc -l #false negatives\n",
    "cat negative_training_topscores.bltab|awk -v x=$THRESHOLD '{if ($11<x) print $0}'|wc -l #false positives"
   ]
  },
  {
   "cell_type": "markdown",
   "metadata": {},
   "source": [
    "1e-03 for instance seems reasonable"
   ]
  },
  {
   "cell_type": "code",
   "execution_count": 32,
   "metadata": {},
   "outputs": [
    {
     "name": "stdout",
     "output_type": "stream",
     "text": [
      "340\n",
      "9696\n",
      "1\n",
      "302\n"
     ]
    }
   ],
   "source": [
    "%%bash\n",
    "THRESHOLD=1e-03\n",
    "cat positive_training_testing_topscores.bltab|awk -v x=$THRESHOLD '{if ($11<=x) print $0}'|wc -l #true positives\n",
    "cat negative_training_topscores.bltab|awk -v x=$THRESHOLD '{if ($11>=x) print $0}'|wc -l #true negatives-2\n",
    "cat positive_training_testing_topscores.bltab|awk -v x=$THRESHOLD '{if ($11>x) print $0}'|wc -l #false negatives\n",
    "cat negative_training_topscores.bltab|awk -v x=$THRESHOLD '{if ($11<x) print $0}'|wc -l #false positives"
   ]
  },
  {
   "cell_type": "markdown",
   "metadata": {},
   "source": [
    "# Confusion matrix, Matthews correlation coefficient, and Accuracy\n",
    "I will do this in python since it is easier to manipulate matrices.\n",
    "\n",
    "## Pre-processing\n",
    "Let's first defain our input files.\n",
    "I will use the files which were already filtered so to have only the best hit for each query sequence."
   ]
  },
  {
   "cell_type": "code",
   "execution_count": 33,
   "metadata": {},
   "outputs": [],
   "source": [
    "# the positive training set (that is also testing set in our case, we didn't have enough proteins)\n",
    "p_train_path = \"./positive_training_testing_topscores.bltab\"\n",
    "\n",
    "# the negative training set\n",
    "n_train_path = \"./negative_training_topscores.bltab\""
   ]
  },
  {
   "cell_type": "markdown",
   "metadata": {},
   "source": [
    "I could take my data and painfully parse it, but why not to just use pandas and have them ready?\n",
    "I create a function that gives me a pandas dataframe from the filepath and then I call it on both inputs."
   ]
  },
  {
   "cell_type": "code",
   "execution_count": 34,
   "metadata": {},
   "outputs": [],
   "source": [
    "import pandas as pd\n",
    "\n",
    "def get_blasttab_df(blasttab_path):\n",
    "    with open(blasttab_path) as blasttab_file:\n",
    "        blasttab_df = pd.read_csv(blasttab_file, sep=\"\\s+\", header=None)\n",
    "    return blasttab_df\n",
    "\n",
    "p_train_df = get_blasttab_df(p_train_path)\n",
    "n_train_df = get_blasttab_df(n_train_path)"
   ]
  },
  {
   "cell_type": "markdown",
   "metadata": {},
   "source": [
    "So now I have all the file content in a beatiful pandas dataframe. I print them here so that I know what they contain and I can look at it while working with the data. Note that pandas already converted all the column in the proper type (int, float, string)."
   ]
  },
  {
   "cell_type": "code",
   "execution_count": 35,
   "metadata": {},
   "outputs": [
    {
     "data": {
      "text/html": [
       "<div>\n",
       "<style scoped>\n",
       "    .dataframe tbody tr th:only-of-type {\n",
       "        vertical-align: middle;\n",
       "    }\n",
       "\n",
       "    .dataframe tbody tr th {\n",
       "        vertical-align: top;\n",
       "    }\n",
       "\n",
       "    .dataframe thead th {\n",
       "        text-align: right;\n",
       "    }\n",
       "</style>\n",
       "<table border=\"1\" class=\"dataframe\">\n",
       "  <thead>\n",
       "    <tr style=\"text-align: right;\">\n",
       "      <th></th>\n",
       "      <th>0</th>\n",
       "      <th>1</th>\n",
       "      <th>2</th>\n",
       "      <th>3</th>\n",
       "      <th>4</th>\n",
       "      <th>5</th>\n",
       "      <th>6</th>\n",
       "      <th>7</th>\n",
       "      <th>8</th>\n",
       "      <th>9</th>\n",
       "      <th>10</th>\n",
       "      <th>11</th>\n",
       "    </tr>\n",
       "  </thead>\n",
       "  <tbody>\n",
       "    <tr>\n",
       "      <th>0</th>\n",
       "      <td>sp|B6RLX2|VKTCT_OPHHA</td>\n",
       "      <td>sp|P12111|CO6A3_HUMAN</td>\n",
       "      <td>43.103</td>\n",
       "      <td>58</td>\n",
       "      <td>33</td>\n",
       "      <td>0</td>\n",
       "      <td>24</td>\n",
       "      <td>81</td>\n",
       "      <td>3105</td>\n",
       "      <td>3162</td>\n",
       "      <td>3.980000e-18</td>\n",
       "      <td>68.2</td>\n",
       "    </tr>\n",
       "    <tr>\n",
       "      <th>1</th>\n",
       "      <td>sp|A6MGY1|VKT7_DEMVE</td>\n",
       "      <td>sp|P12111|CO6A3_HUMAN</td>\n",
       "      <td>50.000</td>\n",
       "      <td>54</td>\n",
       "      <td>27</td>\n",
       "      <td>0</td>\n",
       "      <td>29</td>\n",
       "      <td>82</td>\n",
       "      <td>3110</td>\n",
       "      <td>3163</td>\n",
       "      <td>5.090000e-19</td>\n",
       "      <td>70.9</td>\n",
       "    </tr>\n",
       "    <tr>\n",
       "      <th>2</th>\n",
       "      <td>sp|P00992|VKT3_VIPAA</td>\n",
       "      <td>sp|P10646|TFPI1_HUMAN</td>\n",
       "      <td>43.860</td>\n",
       "      <td>57</td>\n",
       "      <td>32</td>\n",
       "      <td>0</td>\n",
       "      <td>25</td>\n",
       "      <td>81</td>\n",
       "      <td>119</td>\n",
       "      <td>175</td>\n",
       "      <td>1.820000e-19</td>\n",
       "      <td>72.0</td>\n",
       "    </tr>\n",
       "    <tr>\n",
       "      <th>3</th>\n",
       "      <td>sp|B5L5Q6|VKT5_OXYMI</td>\n",
       "      <td>sp|Q96NZ8|WFKN1_HUMAN</td>\n",
       "      <td>52.174</td>\n",
       "      <td>46</td>\n",
       "      <td>22</td>\n",
       "      <td>0</td>\n",
       "      <td>33</td>\n",
       "      <td>78</td>\n",
       "      <td>361</td>\n",
       "      <td>406</td>\n",
       "      <td>6.440000e-14</td>\n",
       "      <td>56.2</td>\n",
       "    </tr>\n",
       "    <tr>\n",
       "      <th>4</th>\n",
       "      <td>sp|P62756|IATR_CAPHI</td>\n",
       "      <td>sp|P02760|AMBP_HUMAN</td>\n",
       "      <td>84.553</td>\n",
       "      <td>123</td>\n",
       "      <td>19</td>\n",
       "      <td>0</td>\n",
       "      <td>1</td>\n",
       "      <td>123</td>\n",
       "      <td>227</td>\n",
       "      <td>349</td>\n",
       "      <td>1.960000e-77</td>\n",
       "      <td>224.0</td>\n",
       "    </tr>\n",
       "    <tr>\n",
       "      <th>...</th>\n",
       "      <td>...</td>\n",
       "      <td>...</td>\n",
       "      <td>...</td>\n",
       "      <td>...</td>\n",
       "      <td>...</td>\n",
       "      <td>...</td>\n",
       "      <td>...</td>\n",
       "      <td>...</td>\n",
       "      <td>...</td>\n",
       "      <td>...</td>\n",
       "      <td>...</td>\n",
       "      <td>...</td>\n",
       "    </tr>\n",
       "    <tr>\n",
       "      <th>336</th>\n",
       "      <td>sp|P0C1X2|VKTS1_CONST</td>\n",
       "      <td>sp|P10646|TFPI1_HUMAN</td>\n",
       "      <td>45.902</td>\n",
       "      <td>61</td>\n",
       "      <td>33</td>\n",
       "      <td>0</td>\n",
       "      <td>23</td>\n",
       "      <td>83</td>\n",
       "      <td>207</td>\n",
       "      <td>267</td>\n",
       "      <td>2.160000e-13</td>\n",
       "      <td>54.7</td>\n",
       "    </tr>\n",
       "    <tr>\n",
       "      <th>337</th>\n",
       "      <td>sp|Q6T6S5|VKT2_BITGA</td>\n",
       "      <td>sp|P10646|TFPI1_HUMAN</td>\n",
       "      <td>49.123</td>\n",
       "      <td>57</td>\n",
       "      <td>29</td>\n",
       "      <td>0</td>\n",
       "      <td>25</td>\n",
       "      <td>81</td>\n",
       "      <td>119</td>\n",
       "      <td>175</td>\n",
       "      <td>4.680000e-19</td>\n",
       "      <td>70.5</td>\n",
       "    </tr>\n",
       "    <tr>\n",
       "      <th>338</th>\n",
       "      <td>sp|P0DN11|VKT7_ANEVI</td>\n",
       "      <td>sp|O43291|SPIT2_HUMAN</td>\n",
       "      <td>46.377</td>\n",
       "      <td>69</td>\n",
       "      <td>37</td>\n",
       "      <td>0</td>\n",
       "      <td>10</td>\n",
       "      <td>78</td>\n",
       "      <td>27</td>\n",
       "      <td>95</td>\n",
       "      <td>4.640000e-19</td>\n",
       "      <td>69.7</td>\n",
       "    </tr>\n",
       "    <tr>\n",
       "      <th>339</th>\n",
       "      <td>sp|P0DMJ6|VKT12_DENAN</td>\n",
       "      <td>sp|P10646|TFPI1_HUMAN</td>\n",
       "      <td>44.828</td>\n",
       "      <td>58</td>\n",
       "      <td>31</td>\n",
       "      <td>1</td>\n",
       "      <td>1</td>\n",
       "      <td>58</td>\n",
       "      <td>49</td>\n",
       "      <td>105</td>\n",
       "      <td>5.740000e-17</td>\n",
       "      <td>63.5</td>\n",
       "    </tr>\n",
       "    <tr>\n",
       "      <th>340</th>\n",
       "      <td>sp|Q9R097|SPIT1_MOUSE</td>\n",
       "      <td>sp|O43278|SPIT1_HUMAN</td>\n",
       "      <td>78.203</td>\n",
       "      <td>523</td>\n",
       "      <td>98</td>\n",
       "      <td>1</td>\n",
       "      <td>1</td>\n",
       "      <td>507</td>\n",
       "      <td>7</td>\n",
       "      <td>529</td>\n",
       "      <td>0.000000e+00</td>\n",
       "      <td>789.0</td>\n",
       "    </tr>\n",
       "  </tbody>\n",
       "</table>\n",
       "<p>341 rows × 12 columns</p>\n",
       "</div>"
      ],
      "text/plain": [
       "                        0                      1       2    3   4   5   6   \\\n",
       "0    sp|B6RLX2|VKTCT_OPHHA  sp|P12111|CO6A3_HUMAN  43.103   58  33   0  24   \n",
       "1     sp|A6MGY1|VKT7_DEMVE  sp|P12111|CO6A3_HUMAN  50.000   54  27   0  29   \n",
       "2     sp|P00992|VKT3_VIPAA  sp|P10646|TFPI1_HUMAN  43.860   57  32   0  25   \n",
       "3     sp|B5L5Q6|VKT5_OXYMI  sp|Q96NZ8|WFKN1_HUMAN  52.174   46  22   0  33   \n",
       "4     sp|P62756|IATR_CAPHI   sp|P02760|AMBP_HUMAN  84.553  123  19   0   1   \n",
       "..                     ...                    ...     ...  ...  ..  ..  ..   \n",
       "336  sp|P0C1X2|VKTS1_CONST  sp|P10646|TFPI1_HUMAN  45.902   61  33   0  23   \n",
       "337   sp|Q6T6S5|VKT2_BITGA  sp|P10646|TFPI1_HUMAN  49.123   57  29   0  25   \n",
       "338   sp|P0DN11|VKT7_ANEVI  sp|O43291|SPIT2_HUMAN  46.377   69  37   0  10   \n",
       "339  sp|P0DMJ6|VKT12_DENAN  sp|P10646|TFPI1_HUMAN  44.828   58  31   1   1   \n",
       "340  sp|Q9R097|SPIT1_MOUSE  sp|O43278|SPIT1_HUMAN  78.203  523  98   1   1   \n",
       "\n",
       "      7     8     9             10     11  \n",
       "0     81  3105  3162  3.980000e-18   68.2  \n",
       "1     82  3110  3163  5.090000e-19   70.9  \n",
       "2     81   119   175  1.820000e-19   72.0  \n",
       "3     78   361   406  6.440000e-14   56.2  \n",
       "4    123   227   349  1.960000e-77  224.0  \n",
       "..   ...   ...   ...           ...    ...  \n",
       "336   83   207   267  2.160000e-13   54.7  \n",
       "337   81   119   175  4.680000e-19   70.5  \n",
       "338   78    27    95  4.640000e-19   69.7  \n",
       "339   58    49   105  5.740000e-17   63.5  \n",
       "340  507     7   529  0.000000e+00  789.0  \n",
       "\n",
       "[341 rows x 12 columns]"
      ]
     },
     "execution_count": 35,
     "metadata": {},
     "output_type": "execute_result"
    }
   ],
   "source": [
    "p_train_df"
   ]
  },
  {
   "cell_type": "code",
   "execution_count": 36,
   "metadata": {},
   "outputs": [
    {
     "data": {
      "text/html": [
       "<div>\n",
       "<style scoped>\n",
       "    .dataframe tbody tr th:only-of-type {\n",
       "        vertical-align: middle;\n",
       "    }\n",
       "\n",
       "    .dataframe tbody tr th {\n",
       "        vertical-align: top;\n",
       "    }\n",
       "\n",
       "    .dataframe thead th {\n",
       "        text-align: right;\n",
       "    }\n",
       "</style>\n",
       "<table border=\"1\" class=\"dataframe\">\n",
       "  <thead>\n",
       "    <tr style=\"text-align: right;\">\n",
       "      <th></th>\n",
       "      <th>0</th>\n",
       "      <th>1</th>\n",
       "      <th>2</th>\n",
       "      <th>3</th>\n",
       "      <th>4</th>\n",
       "      <th>5</th>\n",
       "      <th>6</th>\n",
       "      <th>7</th>\n",
       "      <th>8</th>\n",
       "      <th>9</th>\n",
       "      <th>10</th>\n",
       "      <th>11</th>\n",
       "    </tr>\n",
       "  </thead>\n",
       "  <tbody>\n",
       "    <tr>\n",
       "      <th>0</th>\n",
       "      <td>sp|P16455|MGMT_HUMAN</td>\n",
       "      <td>sp|P12111|CO6A3_HUMAN</td>\n",
       "      <td>42.857</td>\n",
       "      <td>28</td>\n",
       "      <td>13</td>\n",
       "      <td>2</td>\n",
       "      <td>177</td>\n",
       "      <td>204</td>\n",
       "      <td>2326</td>\n",
       "      <td>2350</td>\n",
       "      <td>2.600000e-01</td>\n",
       "      <td>22.7</td>\n",
       "    </tr>\n",
       "    <tr>\n",
       "      <th>1</th>\n",
       "      <td>sp|Q8N136|DAW1_HUMAN</td>\n",
       "      <td>sp|P12111|CO6A3_HUMAN</td>\n",
       "      <td>28.000</td>\n",
       "      <td>50</td>\n",
       "      <td>31</td>\n",
       "      <td>1</td>\n",
       "      <td>317</td>\n",
       "      <td>361</td>\n",
       "      <td>750</td>\n",
       "      <td>799</td>\n",
       "      <td>9.800000e-02</td>\n",
       "      <td>25.4</td>\n",
       "    </tr>\n",
       "    <tr>\n",
       "      <th>2</th>\n",
       "      <td>sp|Q7Z7L8|CK096_HUMAN</td>\n",
       "      <td>sp|Q02388|CO7A1_HUMAN</td>\n",
       "      <td>53.333</td>\n",
       "      <td>15</td>\n",
       "      <td>7</td>\n",
       "      <td>0</td>\n",
       "      <td>289</td>\n",
       "      <td>303</td>\n",
       "      <td>221</td>\n",
       "      <td>235</td>\n",
       "      <td>1.300000e+01</td>\n",
       "      <td>18.5</td>\n",
       "    </tr>\n",
       "    <tr>\n",
       "      <th>3</th>\n",
       "      <td>sp|Q56NI9|ESCO2_HUMAN</td>\n",
       "      <td>sp|Q8TEU8|WFKN2_HUMAN</td>\n",
       "      <td>20.370</td>\n",
       "      <td>162</td>\n",
       "      <td>111</td>\n",
       "      <td>6</td>\n",
       "      <td>89</td>\n",
       "      <td>243</td>\n",
       "      <td>341</td>\n",
       "      <td>491</td>\n",
       "      <td>8.800000e-01</td>\n",
       "      <td>22.7</td>\n",
       "    </tr>\n",
       "    <tr>\n",
       "      <th>4</th>\n",
       "      <td>sp|Q1HG44|DOXA2_HUMAN</td>\n",
       "      <td>sp|O95428|PPN_HUMAN</td>\n",
       "      <td>37.778</td>\n",
       "      <td>45</td>\n",
       "      <td>23</td>\n",
       "      <td>2</td>\n",
       "      <td>274</td>\n",
       "      <td>315</td>\n",
       "      <td>301</td>\n",
       "      <td>343</td>\n",
       "      <td>3.200000e+00</td>\n",
       "      <td>20.0</td>\n",
       "    </tr>\n",
       "    <tr>\n",
       "      <th>...</th>\n",
       "      <td>...</td>\n",
       "      <td>...</td>\n",
       "      <td>...</td>\n",
       "      <td>...</td>\n",
       "      <td>...</td>\n",
       "      <td>...</td>\n",
       "      <td>...</td>\n",
       "      <td>...</td>\n",
       "      <td>...</td>\n",
       "      <td>...</td>\n",
       "      <td>...</td>\n",
       "      <td>...</td>\n",
       "    </tr>\n",
       "    <tr>\n",
       "      <th>9993</th>\n",
       "      <td>sp|Q9BXJ1|C1QT1_HUMAN</td>\n",
       "      <td>sp|P12111|CO6A3_HUMAN</td>\n",
       "      <td>47.727</td>\n",
       "      <td>44</td>\n",
       "      <td>23</td>\n",
       "      <td>0</td>\n",
       "      <td>97</td>\n",
       "      <td>140</td>\n",
       "      <td>2111</td>\n",
       "      <td>2154</td>\n",
       "      <td>8.880000e-08</td>\n",
       "      <td>43.9</td>\n",
       "    </tr>\n",
       "    <tr>\n",
       "      <th>9994</th>\n",
       "      <td>sp|A6NCS6|CB072_HUMAN</td>\n",
       "      <td>sp|O95428|PPN_HUMAN</td>\n",
       "      <td>71.429</td>\n",
       "      <td>7</td>\n",
       "      <td>2</td>\n",
       "      <td>0</td>\n",
       "      <td>229</td>\n",
       "      <td>235</td>\n",
       "      <td>28</td>\n",
       "      <td>34</td>\n",
       "      <td>4.700000e+00</td>\n",
       "      <td>19.2</td>\n",
       "    </tr>\n",
       "    <tr>\n",
       "      <th>9995</th>\n",
       "      <td>sp|P21399|ACOC_HUMAN</td>\n",
       "      <td>sp|O95428|PPN_HUMAN</td>\n",
       "      <td>29.167</td>\n",
       "      <td>72</td>\n",
       "      <td>50</td>\n",
       "      <td>1</td>\n",
       "      <td>743</td>\n",
       "      <td>813</td>\n",
       "      <td>632</td>\n",
       "      <td>703</td>\n",
       "      <td>8.400000e-01</td>\n",
       "      <td>23.5</td>\n",
       "    </tr>\n",
       "    <tr>\n",
       "      <th>9996</th>\n",
       "      <td>sp|P63167|DYL1_HUMAN</td>\n",
       "      <td>sp|Q8TEU8|WFKN2_HUMAN</td>\n",
       "      <td>35.484</td>\n",
       "      <td>31</td>\n",
       "      <td>18</td>\n",
       "      <td>1</td>\n",
       "      <td>3</td>\n",
       "      <td>33</td>\n",
       "      <td>127</td>\n",
       "      <td>155</td>\n",
       "      <td>8.500000e-01</td>\n",
       "      <td>19.2</td>\n",
       "    </tr>\n",
       "    <tr>\n",
       "      <th>9997</th>\n",
       "      <td>sp|Q9Y3B6|EMC9_HUMAN</td>\n",
       "      <td>sp|P05067|A4_HUMAN</td>\n",
       "      <td>22.500</td>\n",
       "      <td>40</td>\n",
       "      <td>31</td>\n",
       "      <td>0</td>\n",
       "      <td>151</td>\n",
       "      <td>190</td>\n",
       "      <td>411</td>\n",
       "      <td>450</td>\n",
       "      <td>2.300000e+00</td>\n",
       "      <td>19.6</td>\n",
       "    </tr>\n",
       "  </tbody>\n",
       "</table>\n",
       "<p>9998 rows × 12 columns</p>\n",
       "</div>"
      ],
      "text/plain": [
       "                         0                      1       2    3    4   5    6   \\\n",
       "0      sp|P16455|MGMT_HUMAN  sp|P12111|CO6A3_HUMAN  42.857   28   13   2  177   \n",
       "1      sp|Q8N136|DAW1_HUMAN  sp|P12111|CO6A3_HUMAN  28.000   50   31   1  317   \n",
       "2     sp|Q7Z7L8|CK096_HUMAN  sp|Q02388|CO7A1_HUMAN  53.333   15    7   0  289   \n",
       "3     sp|Q56NI9|ESCO2_HUMAN  sp|Q8TEU8|WFKN2_HUMAN  20.370  162  111   6   89   \n",
       "4     sp|Q1HG44|DOXA2_HUMAN    sp|O95428|PPN_HUMAN  37.778   45   23   2  274   \n",
       "...                     ...                    ...     ...  ...  ...  ..  ...   \n",
       "9993  sp|Q9BXJ1|C1QT1_HUMAN  sp|P12111|CO6A3_HUMAN  47.727   44   23   0   97   \n",
       "9994  sp|A6NCS6|CB072_HUMAN    sp|O95428|PPN_HUMAN  71.429    7    2   0  229   \n",
       "9995   sp|P21399|ACOC_HUMAN    sp|O95428|PPN_HUMAN  29.167   72   50   1  743   \n",
       "9996   sp|P63167|DYL1_HUMAN  sp|Q8TEU8|WFKN2_HUMAN  35.484   31   18   1    3   \n",
       "9997   sp|Q9Y3B6|EMC9_HUMAN     sp|P05067|A4_HUMAN  22.500   40   31   0  151   \n",
       "\n",
       "       7     8     9             10    11  \n",
       "0     204  2326  2350  2.600000e-01  22.7  \n",
       "1     361   750   799  9.800000e-02  25.4  \n",
       "2     303   221   235  1.300000e+01  18.5  \n",
       "3     243   341   491  8.800000e-01  22.7  \n",
       "4     315   301   343  3.200000e+00  20.0  \n",
       "...   ...   ...   ...           ...   ...  \n",
       "9993  140  2111  2154  8.880000e-08  43.9  \n",
       "9994  235    28    34  4.700000e+00  19.2  \n",
       "9995  813   632   703  8.400000e-01  23.5  \n",
       "9996   33   127   155  8.500000e-01  19.2  \n",
       "9997  190   411   450  2.300000e+00  19.6  \n",
       "\n",
       "[9998 rows x 12 columns]"
      ]
     },
     "execution_count": 36,
     "metadata": {},
     "output_type": "execute_result"
    }
   ],
   "source": [
    "n_train_df"
   ]
  },
  {
   "cell_type": "markdown",
   "metadata": {},
   "source": [
    "What really matters now is the E-value, not all the additional data.\n",
    "I also need to remeber the number of total positives and total negatives in the training sets.\n",
    "I re-calculate here for easier reference."
   ]
  },
  {
   "cell_type": "code",
   "execution_count": 37,
   "metadata": {},
   "outputs": [
    {
     "name": "stdout",
     "output_type": "stream",
     "text": [
      "341\n"
     ]
    }
   ],
   "source": [
    "!cat no_human_SP_Kunitz.fasta|grep \">\"|wc -l # total positives in training set"
   ]
  },
  {
   "cell_type": "code",
   "execution_count": 38,
   "metadata": {},
   "outputs": [
    {
     "name": "stdout",
     "output_type": "stream",
     "text": [
      "10000\n"
     ]
    }
   ],
   "source": [
    "!cat human_SP_no_Kunitz_Training.fasta|grep \">\"|wc -l # total negatives in training set"
   ]
  },
  {
   "cell_type": "markdown",
   "metadata": {},
   "source": [
    "It is not a given that in my output of BLAST I will have every sequence in the query.\n",
    "BLAST only gives me the number of positives, not that of negatives.\n",
    "I used a E-value threshold of 1000, but still 2 sequences from the negatives did not find any match.\n",
    "For our purposes, I can just add to the arrays a number of values equal to the difference between the number of query sequences and the lenght of the array containing the unique sequences that blast produced.\n",
    "These values are for sure higher than the threshold I used in the BLAST search, 1000.\n",
    "So I can use 1000 as a value to add.\n",
    "There is no need to do it for the whole dataframe.\n",
    "From now on I operate only on the E-values.\n",
    "\n",
    "First I define a function for completing the arrays with the missing values.\n",
    "It takes as arguments the array of values and the number of total sequences in the BLAST query.\n",
    "This is the lenght that I want my array to have."
   ]
  },
  {
   "cell_type": "code",
   "execution_count": 39,
   "metadata": {},
   "outputs": [],
   "source": [
    "import numpy as np\n",
    "\n",
    "def blast_complete_array(e_val_arr, tot_expected):\n",
    "    to_be_appended = [1000]*(tot_expected-len(e_val_arr))\n",
    "    completed_arr = np.append(e_val_arr, to_be_appended, axis = 0)\n",
    "    return completed_arr"
   ]
  },
  {
   "cell_type": "markdown",
   "metadata": {},
   "source": [
    "Now I exctract an array containing only the E-values for both positives and negatives and I put it in a numpy array.\n",
    "Here it is column 10 instead of 11 since pandas starts from 0.\n",
    "I also call around them the function for completing the missing sequences, so I have complete arrays to work with."
   ]
  },
  {
   "cell_type": "code",
   "execution_count": 40,
   "metadata": {},
   "outputs": [
    {
     "data": {
      "text/plain": [
       "(341, 10000)"
      ]
     },
     "execution_count": 40,
     "metadata": {},
     "output_type": "execute_result"
    }
   ],
   "source": [
    "p_train_vals = blast_complete_array(np.array(p_train_df[10]),341)\n",
    "n_train_vals = blast_complete_array(np.array(n_train_df[10]),10000)\n",
    "\n",
    "len(p_train_vals), len(n_train_vals)"
   ]
  },
  {
   "cell_type": "markdown",
   "metadata": {},
   "source": [
    "Now my arrays look like this, and contain all the E-values for positives and negatives."
   ]
  },
  {
   "cell_type": "code",
   "execution_count": 41,
   "metadata": {},
   "outputs": [
    {
     "data": {
      "text/plain": [
       "array([3.98e-018, 5.09e-019, 1.82e-019, 6.44e-014, 1.96e-077, 2.30e-019,\n",
       "       0.00e+000, 1.29e-056, 3.65e-015, 1.32e-016, 1.24e-019, 1.51e-016,\n",
       "       5.54e-016, 8.61e-017, 2.67e-016, 7.06e-017, 4.62e-012, 5.03e-018,\n",
       "       7.20e-019, 8.40e-033, 0.00e+000, 9.44e-013, 8.69e-030, 8.61e-017,\n",
       "       1.60e-018, 1.60e-017, 7.07e-025, 8.08e-018, 2.42e-016, 1.86e-017,\n",
       "       6.64e-017, 0.00e+000, 4.64e-012, 4.12e-017, 1.04e-012, 1.02e-090,\n",
       "       5.74e-017, 3.70e-017, 1.16e-019, 6.24e-018, 7.55e-017, 6.49e-017,\n",
       "       2.51e-016, 0.00e+000, 2.32e-018, 6.97e-018, 2.50e-020, 3.84e-016,\n",
       "       7.91e-017, 5.01e-018, 7.83e-017, 1.85e-007, 7.03e-019, 3.18e-019,\n",
       "       6.31e-010, 1.80e-015, 6.76e-017, 1.55e-018, 0.00e+000, 1.92e-013,\n",
       "       2.91e-019, 1.83e-012, 1.85e-013, 1.33e-016, 1.86e-017, 1.09e-020,\n",
       "       1.92e-018, 5.56e-035, 8.53e-019, 7.37e-018, 0.00e+000, 1.64e-014,\n",
       "       1.73e-018, 2.44e-004, 3.54e-019, 7.99e-017, 2.16e-018, 0.00e+000,\n",
       "       5.21e-017, 2.43e-018, 4.25e-018, 0.00e+000, 1.21e-018, 4.62e-019,\n",
       "       1.52e-018, 8.06e-013, 1.25e-017, 1.99e-014, 5.58e-017, 1.96e-012,\n",
       "       2.16e-018, 7.33e-018, 3.18e-016, 2.45e-016, 4.31e-021, 1.19e-058,\n",
       "       2.34e-012, 1.18e-017, 1.23e-015, 2.10e-073, 2.83e-016, 7.06e-017,\n",
       "       3.05e-017, 1.40e-018, 1.19e-017, 3.37e-016, 1.74e-018, 1.84e-018,\n",
       "       3.13e-018, 2.57e-019, 9.24e-017, 1.92e-019, 1.85e-018, 9.76e-017,\n",
       "       2.19e-016, 1.93e-020, 1.37e-017, 5.41e-012, 6.28e-019, 7.91e-017,\n",
       "       6.61e-019, 1.53e-093, 0.00e+000, 8.15e-014, 5.98e-019, 1.14e-078,\n",
       "       5.09e-019, 3.08e-124, 9.21e-020, 5.36e-017, 1.06e-018, 5.35e-016,\n",
       "       1.58e-012, 1.39e-011, 1.43e-017, 7.48e-021, 1.46e-018, 2.33e-019,\n",
       "       4.76e-016, 2.70e-017, 7.00e-012, 1.14e-018, 2.82e-018, 0.00e+000,\n",
       "       0.00e+000, 7.77e-031, 1.25e-058, 6.96e-010, 8.08e-018, 1.43e-018,\n",
       "       6.47e-008, 1.23e-014, 5.74e-016, 7.81e-018, 3.46e-017, 3.67e-018,\n",
       "       0.00e+000, 3.61e-020, 1.36e-148, 2.56e-016, 6.48e-016, 3.89e-016,\n",
       "       2.12e-016, 3.33e-020, 0.00e+000, 1.44e-012, 5.01e-018, 1.32e-017,\n",
       "       6.64e-017, 0.00e+000, 4.50e-018, 2.70e-016, 6.20e-016, 1.18e-017,\n",
       "       6.74e-018, 1.85e-018, 9.44e-013, 4.47e-012, 3.65e-016, 3.60e-019,\n",
       "       4.94e-018, 3.65e-020, 1.93e-020, 5.31e-020, 1.87e-021, 9.22e-047,\n",
       "       3.73e-082, 6.27e-017, 4.24e-013, 8.85e-017, 1.63e-015, 3.49e-021,\n",
       "       8.33e-032, 5.59e-016, 5.71e-017, 0.00e+000, 4.50e-002, 1.17e-016,\n",
       "       0.00e+000, 9.18e-017, 1.92e-015, 9.44e-013, 4.25e-018, 2.83e-107,\n",
       "       2.34e-012, 1.57e-017, 3.68e-018, 1.41e-017, 7.38e-017, 2.45e-016,\n",
       "       3.61e-015, 2.09e-047, 1.01e-009, 1.05e-017, 5.18e-020, 3.05e-014,\n",
       "       2.05e-018, 3.18e-019, 8.22e-041, 0.00e+000, 2.30e-016, 7.63e-020,\n",
       "       1.33e-007, 5.04e-015, 3.26e-097, 1.17e-016, 0.00e+000, 3.00e-016,\n",
       "       8.35e-016, 0.00e+000, 2.18e-016, 8.08e-013, 1.29e-018, 1.06e-017,\n",
       "       2.98e-016, 4.03e-017, 3.21e-019, 3.86e-016, 1.41e-016, 1.28e-016,\n",
       "       3.10e-121, 1.96e-077, 4.06e-014, 4.04e-018, 3.82e-018, 2.40e-018,\n",
       "       9.97e-021, 8.51e-016, 1.03e-018, 1.85e-018, 3.72e-016, 1.46e-018,\n",
       "       7.65e-017, 1.84e-017, 1.74e-018, 1.82e-016, 2.10e-018, 2.66e-017,\n",
       "       1.40e-018, 1.30e-012, 1.06e-016, 5.85e-034, 9.83e-017, 8.87e-148,\n",
       "       1.79e-018, 3.72e-128, 3.19e-017, 4.12e-017, 3.28e-016, 3.33e-018,\n",
       "       1.18e-017, 0.00e+000, 2.35e-018, 8.51e-016, 7.83e-017, 0.00e+000,\n",
       "       1.16e-015, 6.23e-017, 2.07e-015, 0.00e+000, 3.32e-019, 5.73e-037,\n",
       "       4.50e-018, 1.59e-018, 5.74e-011, 6.99e-018, 3.67e-018, 7.27e-024,\n",
       "       2.04e-017, 0.00e+000, 1.23e-016, 1.43e-017, 2.68e-021, 3.70e-017,\n",
       "       1.50e-117, 2.43e-018, 1.01e-043, 8.52e-020, 3.66e-019, 2.34e-013,\n",
       "       2.88e-018, 2.83e-018, 2.82e-018, 2.90e-021, 5.10e-017, 1.28e-019,\n",
       "       8.08e-018, 6.87e-016, 0.00e+000, 3.81e-019, 1.90e-016, 1.45e-017,\n",
       "       1.11e-016, 4.66e-015, 1.45e-109, 2.81e-016, 2.61e-012, 5.06e-018,\n",
       "       2.14e-017, 5.03e-018, 4.51e-018, 9.51e-011, 5.82e-017, 6.46e-017,\n",
       "       9.76e-017, 1.38e-014, 7.07e-017, 2.77e-014, 7.96e-021, 1.43e-014,\n",
       "       7.19e-018, 1.95e-015, 3.06e-015, 1.83e-018, 5.78e-018, 2.13e-016,\n",
       "       2.16e-013, 4.68e-019, 4.64e-019, 5.74e-017, 0.00e+000])"
      ]
     },
     "execution_count": 41,
     "metadata": {},
     "output_type": "execute_result"
    }
   ],
   "source": [
    "p_train_vals"
   ]
  },
  {
   "cell_type": "code",
   "execution_count": 42,
   "metadata": {},
   "outputs": [
    {
     "data": {
      "text/plain": [
       "array([2.6e-01, 9.8e-02, 1.3e+01, ..., 2.3e+00, 1.0e+03, 1.0e+03])"
      ]
     },
     "execution_count": 42,
     "metadata": {},
     "output_type": "execute_result"
    }
   ],
   "source": [
    "n_train_vals"
   ]
  },
  {
   "cell_type": "markdown",
   "metadata": {},
   "source": [
    "## Confusion matrix\n",
    "My aim now is to define a function for creating a confusion matrix from which I will calculate the Matthews correlation (MCC) and the accuracy (ACC)."
   ]
  },
  {
   "cell_type": "code",
   "execution_count": 43,
   "metadata": {},
   "outputs": [],
   "source": [
    "def get_confusion_mat(thr, p_vals, n_vals):\n",
    "    # I evaluate only below thresholds since only those are meaningful for blast (above I can have as many as I want!)\n",
    "    true_pos_arr = p_vals[p_vals<thr] # np.arr<value returns an np.array with [True, False, True, ...]\n",
    "    false_pos_arr = n_vals[n_vals<thr] # if I use it as an index for the array itself it filters only the values meeting the condition\n",
    "    # the numerosity of a class is just the lenght of its array\n",
    "    true_pos = len(true_pos_arr)\n",
    "    false_pos = len(false_pos_arr)\n",
    "    # I calculate the remaining class from the differences\n",
    "    tot_p = len(p_vals)\n",
    "    tot_n = len(n_vals)\n",
    "    false_neg = tot_p - true_pos\n",
    "    true_neg = tot_n - false_pos\n",
    "    confusion_mat = np.array([[true_pos, false_pos],[true_neg, false_neg]])\n",
    "    return confusion_mat"
   ]
  },
  {
   "cell_type": "markdown",
   "metadata": {},
   "source": [
    "I just use a mock threshold of -1 now, so that all the proteins will be above it. I expect to have 100% of false negatives and of true positives.\n",
    "In practice everithing will be negative.\n",
    "This is just to test if myu function works as expected."
   ]
  },
  {
   "cell_type": "code",
   "execution_count": 44,
   "metadata": {},
   "outputs": [
    {
     "data": {
      "text/plain": [
       "array([[    0,     0],\n",
       "       [10000,   341]])"
      ]
     },
     "execution_count": 44,
     "metadata": {},
     "output_type": "execute_result"
    }
   ],
   "source": [
    "cm_0 = get_confusion_mat(-1, p_train_vals, n_train_vals)\n",
    "cm_0"
   ]
  },
  {
   "cell_type": "markdown",
   "metadata": {},
   "source": [
    "In the same way with a really high threshold I should have 100% true negatives and false positives"
   ]
  },
  {
   "cell_type": "code",
   "execution_count": 45,
   "metadata": {},
   "outputs": [
    {
     "data": {
      "text/plain": [
       "array([[  341, 10000],\n",
       "       [    0,     0]])"
      ]
     },
     "execution_count": 45,
     "metadata": {},
     "output_type": "execute_result"
    }
   ],
   "source": [
    "cm_inf = get_confusion_mat(np.infty, p_train_vals, n_train_vals)\n",
    "cm_inf"
   ]
  },
  {
   "cell_type": "markdown",
   "metadata": {},
   "source": [
    "## Accuracy\n",
    "I want to define functions that can calculate the ACC from a confusion matrix.\n",
    "\n",
    "The formula of the ACC:\n",
    "\n",
    "$$\n",
    "ACC = \\frac{TP+TN}{TP+TN+FP+FN}\n",
    "$$"
   ]
  },
  {
   "cell_type": "code",
   "execution_count": 46,
   "metadata": {},
   "outputs": [],
   "source": [
    "def get_ACC(thr, p_vals, n_vals):\n",
    "    confusion_mat = get_confusion_mat(thr, p_vals, n_vals)\n",
    "    t_pos = confusion_mat[0][0]\n",
    "    t_neg = confusion_mat[1][0]\n",
    "    f_pos = confusion_mat[0][1]\n",
    "    f_neg = confusion_mat[1][1]\n",
    "    above_frac = t_pos+t_neg\n",
    "    below_frac = t_pos+t_neg+f_pos+f_neg\n",
    "    ACC = above_frac/below_frac\n",
    "    return ACC"
   ]
  },
  {
   "cell_type": "markdown",
   "metadata": {},
   "source": [
    "## Matthews Correlation Coefficient\n",
    "I want to define functions that can calculate the MCC from a confusion matrix.\n",
    "\n",
    "The formula of the MCC:\n",
    "\n",
    "$$\n",
    "MCC = \\frac{TP*TN-FP*FN}{\\sqrt{(TP+FP)*(TP*FN)*(TN+FP)*(TN+FN)}}\n",
    "$$"
   ]
  },
  {
   "cell_type": "code",
   "execution_count": 47,
   "metadata": {},
   "outputs": [],
   "source": [
    "def get_MCC(thr, p_vals, n_vals):\n",
    "    confusion_mat = get_confusion_mat(thr, p_vals, n_vals)\n",
    "    t_pos = confusion_mat[0][0]\n",
    "    t_neg = confusion_mat[1][0]\n",
    "    f_pos = confusion_mat[0][1]\n",
    "    f_neg = confusion_mat[1][1]\n",
    "    above_frac = t_pos*t_neg-f_pos*f_neg\n",
    "    below_frac = np.sqrt((t_pos+f_pos)*(t_pos+f_neg)*(t_neg+f_pos)*(t_neg+f_neg))\n",
    "    MCC = above_frac/max(below_frac,1) # otherwise I can divide by 0\n",
    "    return MCC"
   ]
  },
  {
   "cell_type": "markdown",
   "metadata": {},
   "source": [
    "## Testing MCC and ACC functions\n",
    "I want to see if the functions I determined work as expected.\n",
    "For making things easier, I wrap both of them in a single function that takes a threshold and the arrays of positives and negatives and prints the confusion matrix, the ACC, and the MCC."
   ]
  },
  {
   "cell_type": "code",
   "execution_count": 48,
   "metadata": {},
   "outputs": [],
   "source": [
    "def get_stats(thr, p_vals, n_vals):\n",
    "    confusion_mat = get_confusion_mat(thr, p_vals, n_vals)\n",
    "    ACC = get_ACC(thr, p_vals, n_vals)\n",
    "    MCC = get_MCC(thr, p_vals, n_vals)\n",
    "    print(\"Confusion matrix:\\n\")\n",
    "    print(confusion_mat, \"\\n\")\n",
    "    print(\"Threshold:\", thr)\n",
    "    print(\"ACC:\", ACC)\n",
    "    print(\"MCC:\", MCC)\n",
    "    return confusion_mat, ACC, MCC"
   ]
  },
  {
   "cell_type": "markdown",
   "metadata": {},
   "source": [
    "I can now try to compute the staistics for E-value threshold for which I know what the result should be, so that I can test if my functions work as expected.\n",
    "With a threshold of -1, all the values will be above threshold and so I will have only negatives predicted.\n",
    "I expect 100% true negatives and false negatives.\n",
    "The MCC should be 0."
   ]
  },
  {
   "cell_type": "code",
   "execution_count": 49,
   "metadata": {},
   "outputs": [
    {
     "name": "stdout",
     "output_type": "stream",
     "text": [
      "Confusion matrix:\n",
      "\n",
      "[[    0     0]\n",
      " [10000   341]] \n",
      "\n",
      "Threshold: -1\n",
      "ACC: 0.9670244657189827\n",
      "MCC: 0.0\n"
     ]
    }
   ],
   "source": [
    "get_stats(-1, p_train_vals, n_train_vals)\n",
    "pass # just to avoid the print of the array by jupyter"
   ]
  },
  {
   "cell_type": "markdown",
   "metadata": {},
   "source": [
    "In the same way with a threshold of infinite everithing will be within threshold.\n",
    "I expect 100% true positives and false positives.\n",
    "The MCC should be 0 also in this case."
   ]
  },
  {
   "cell_type": "code",
   "execution_count": 50,
   "metadata": {},
   "outputs": [
    {
     "name": "stdout",
     "output_type": "stream",
     "text": [
      "Confusion matrix:\n",
      "\n",
      "[[  341 10000]\n",
      " [    0     0]] \n",
      "\n",
      "Threshold: inf\n",
      "ACC: 0.03297553428101731\n",
      "MCC: 0.0\n"
     ]
    }
   ],
   "source": [
    "get_stats(np.infty, p_train_vals, n_train_vals)\n",
    "pass # just to avoid the print of the array by jupyter"
   ]
  },
  {
   "cell_type": "markdown",
   "metadata": {},
   "source": [
    "With a more sensible threshold, like 1e-03, I expect an higher MCC."
   ]
  },
  {
   "cell_type": "code",
   "execution_count": 51,
   "metadata": {},
   "outputs": [
    {
     "name": "stdout",
     "output_type": "stream",
     "text": [
      "Confusion matrix:\n",
      "\n",
      "[[ 340  302]\n",
      " [9698    1]] \n",
      "\n",
      "Threshold: 0.001\n",
      "ACC: 0.9706991586887148\n",
      "MCC: 0.7155057611301966\n"
     ]
    }
   ],
   "source": [
    "get_stats(1e-03, p_train_vals, n_train_vals)\n",
    "pass # just to avoid the print of the array by jupyter"
   ]
  },
  {
   "cell_type": "markdown",
   "metadata": {},
   "source": [
    "# Finding the best E-value threshold\n",
    "I want to find the best E-value threshold for discriminating Kunitz and non-Kunitz proteins.\n",
    "I will use the MCC as an unbiased measure of performance of my threshold.\n",
    "Threfore, I want to find the threshold $\\theta^*$ that maximizes the MCC, given the dataset D.\n",
    "\n",
    "$$\n",
    "\\theta^* = argmax_\\theta(|MCC(D, \\theta)|)\n",
    "$$"
   ]
  },
  {
   "cell_type": "markdown",
   "metadata": {},
   "source": [
    "An MCC of 0 indicates random predictions, an MCC of 1 perfect predictions and an MCC of -1 perfect reverse predictions (always wrong).\n",
    "Even perfect reverse predictions are ok for me, because I can just take the opposite of what my model says.\n",
    "Threfore I want to maximise the absolute value of the MCC.\n",
    "A good way to find the best $\\theta$ could be to plot how the MCC varies with respect of $\\theta$.\n",
    "The best $\\theta$ will be the one corresponding to a maximum of this function.\n",
    "I can create a function that tryes a lot of different values of $\\theta$ (i.e., in powers of 10 from $10^{-100}$ to 1) and plots the results on a graph.\n",
    "This is essentially a linear regrssion algorithm.\n",
    "\n",
    "Now I define a function that does just this.\n",
    "Note that the argumets are the orders of magnitude that will be tried, not the actual thresholds."
   ]
  },
  {
   "cell_type": "code",
   "execution_count": 52,
   "metadata": {},
   "outputs": [],
   "source": [
    "import seaborn as sns; sns.set()\n",
    "import matplotlib.pyplot as plt\n",
    "\n",
    "\n",
    "def plot_MCC(p_vals, n_vals, low_bound=-100, up_bound=100, threshold=None):\n",
    "    MCC_list = []\n",
    "    ACC_list = []\n",
    "    thr_list = list(np.logspace(low_bound, up_bound))\n",
    "    for thr in thr_list:\n",
    "        MCC = get_MCC(thr, p_vals, n_vals)\n",
    "        ACC = get_ACC(thr, p_vals, n_vals)\n",
    "        MCC_list.append(abs(MCC))\n",
    "        ACC_list.append(abs(ACC))\n",
    "    df = pd.DataFrame({\"E-value threshold\": thr_list, \"MCC\": MCC_list, \"ACC\": ACC_list})\n",
    "    sns.lineplot(x=\"E-value threshold\", y=\"MCC\", data=df, label=\"MCC\")\n",
    "    sns.lineplot(x=\"E-value threshold\", y=\"ACC\", data=df, label=\"ACC\").set_xscale('log')\n",
    "    plt.ylabel('')\n",
    "    if threshold:\n",
    "        plt.axvline(threshold, color ='r') # plots a vertical red bar at threshold"
   ]
  },
  {
   "cell_type": "code",
   "execution_count": 53,
   "metadata": {},
   "outputs": [
    {
     "data": {
      "image/png": "[encoded data removed]",
      "text/plain": [
       "<Figure size 432x288 with 1 Axes>"
      ]
     },
     "metadata": {},
     "output_type": "display_data"
    }
   ],
   "source": [
    "plot_MCC(p_train_vals, n_train_vals)"
   ]
  },
  {
   "cell_type": "code",
   "execution_count": 54,
   "metadata": {},
   "outputs": [
    {
     "data": {
      "image/png": "[encoded data removed]",
      "text/plain": [
       "<Figure size 432x288 with 1 Axes>"
      ]
     },
     "metadata": {},
     "output_type": "display_data"
    }
   ],
   "source": [
    "plot_MCC(p_train_vals, n_train_vals, -30, 0)"
   ]
  },
  {
   "cell_type": "code",
   "execution_count": 55,
   "metadata": {},
   "outputs": [
    {
     "data": {
      "image/png": "[encoded data removed]",
      "text/plain": [
       "<Figure size 432x288 with 1 Axes>"
      ]
     },
     "metadata": {},
     "output_type": "display_data"
    }
   ],
   "source": [
    "plot_MCC(p_train_vals, n_train_vals, -10, -9)"
   ]
  },
  {
   "cell_type": "markdown",
   "metadata": {},
   "source": [
    "We can see that the MCC is near-random until 1e-27, then there is a sharp increase followed by a peak and a decrease.\n",
    "We most probably want an MCC around 1e-10.\n",
    "But let's determine it analitycally.\n",
    "\n",
    "We could write down a simple univariate linear regression, but there is a function already available in scipy.\n",
    "I just need to write a cost function in a form which can be used by the minimization algorithm."
   ]
  },
  {
   "cell_type": "code",
   "execution_count": 56,
   "metadata": {},
   "outputs": [],
   "source": [
    "import scipy.optimize as opt\n",
    "\n",
    "def objective_fun_MCC(thr, p_vals, n_vals, mock=None): # mock is needed so that I don't get an error when I pass to it the windowsize parameter (see next)\n",
    "    MCC = get_MCC(thr, p_vals, n_vals)\n",
    "    cost = 1-abs(MCC)\n",
    "    return cost\n",
    "\n",
    "def maximize_MCC(p_vals, n_vals, fun_MCC, window_size=None):\n",
    "    result = opt.minimize_scalar(fun_MCC, args=(p_vals, n_vals, window_size))\n",
    "    optimal_thr = result.x\n",
    "    return optimal_thr"
   ]
  },
  {
   "cell_type": "code",
   "execution_count": 57,
   "metadata": {},
   "outputs": [
    {
     "data": {
      "text/plain": [
       "'1.186242e-03'"
      ]
     },
     "execution_count": 57,
     "metadata": {},
     "output_type": "execute_result"
    }
   ],
   "source": [
    "training_thr = maximize_MCC(p_train_vals, n_train_vals, objective_fun_MCC)\n",
    "\"{:e}\".format(training_thr) # just to print in scientific notation"
   ]
  },
  {
   "cell_type": "code",
   "execution_count": 58,
   "metadata": {},
   "outputs": [
    {
     "data": {
      "image/png": "[encoded data removed]",
      "text/plain": [
       "<Figure size 432x288 with 1 Axes>"
      ]
     },
     "metadata": {},
     "output_type": "display_data"
    }
   ],
   "source": [
    "plot_MCC(p_train_vals, n_train_vals, -100, 100, training_thr)"
   ]
  },
  {
   "cell_type": "markdown",
   "metadata": {},
   "source": [
    "This is NOT what I expected.\n",
    "The function is really bumpy. I can make my algo work better by making it smoother with a sliding window."
   ]
  },
  {
   "cell_type": "code",
   "execution_count": 59,
   "metadata": {},
   "outputs": [
    {
     "name": "stderr",
     "output_type": "stream",
     "text": [
      "/home/saul/miniconda3/envs/LB1/lib/python3.7/site-packages/ipykernel_launcher.py:3: RuntimeWarning: divide by zero encountered in log10\n",
      "  This is separate from the ipykernel package so we can avoid doing imports until\n",
      "/home/saul/miniconda3/envs/LB1/lib/python3.7/site-packages/numpy/core/function_base.py:142: RuntimeWarning: invalid value encountered in double_scalars\n",
      "  delta = stop - start\n",
      "/home/saul/miniconda3/envs/LB1/lib/python3.7/site-packages/ipykernel_launcher.py:3: RuntimeWarning: invalid value encountered in less\n",
      "  This is separate from the ipykernel package so we can avoid doing imports until\n",
      "/home/saul/miniconda3/envs/LB1/lib/python3.7/site-packages/ipykernel_launcher.py:4: RuntimeWarning: invalid value encountered in less\n",
      "  after removing the cwd from sys.path.\n"
     ]
    },
    {
     "data": {
      "text/plain": [
       "'3.553190e-11'"
      ]
     },
     "execution_count": 59,
     "metadata": {},
     "output_type": "execute_result"
    }
   ],
   "source": [
    "def smoot_MCC(thr, p_vals, n_vals, window_size=1):\n",
    "    x = thr\n",
    "    log_x = np.log10(x)\n",
    "    smooth_window = np.logspace(log_x-window_size/2,log_x+window_size/2)\n",
    "    window_res = []\n",
    "    for log_x_w in smooth_window:\n",
    "        window_res.append(get_MCC(log_x_w, p_vals, n_vals))\n",
    "    smooth_fun = -abs(sum(window_res)/len(window_res)) # need to be negative for minimization\n",
    "    return smooth_fun\n",
    "\n",
    "\n",
    "training_thr_smooth = maximize_MCC(p_train_vals, n_train_vals, smoot_MCC, 1) # smoothing with window size of 1\n",
    "\"{:e}\".format(training_thr_smooth) # just to print in scientific notation"
   ]
  },
  {
   "cell_type": "code",
   "execution_count": 60,
   "metadata": {},
   "outputs": [
    {
     "data": {
      "image/png": "[encoded data removed]",
      "text/plain": [
       "<Figure size 432x288 with 1 Axes>"
      ]
     },
     "metadata": {},
     "output_type": "display_data"
    }
   ],
   "source": [
    "plot_MCC(p_train_vals, n_train_vals, -100, 100, training_thr_smooth)"
   ]
  },
  {
   "cell_type": "code",
   "execution_count": 61,
   "metadata": {},
   "outputs": [
    {
     "data": {
      "image/png": "[encoded data removed]",
      "text/plain": [
       "<Figure size 432x288 with 1 Axes>"
      ]
     },
     "metadata": {},
     "output_type": "display_data"
    }
   ],
   "source": [
    "plot_MCC(p_train_vals, n_train_vals, -20, 0, training_thr_smooth)"
   ]
  },
  {
   "cell_type": "markdown",
   "metadata": {},
   "source": [
    "Much better!"
   ]
  },
  {
   "cell_type": "markdown",
   "metadata": {},
   "source": [
    "# Evaluation of the method on the test set\n",
    "To evaluate how good my discrimination method is, I use the threshold of 1.18e-03 on the test set and determine the various statistics.\n",
    "Just for simplicity I wrap all the various parsing operations in one function.\n",
    "\n",
    "First I need to select the top-hits for each sequence also for the negative testing set.\n",
    "The positive set is the same as the positive training set so it is not needed."
   ]
  },
  {
   "cell_type": "code",
   "execution_count": 62,
   "metadata": {},
   "outputs": [],
   "source": [
    "!cat negative_testing.bltab|awk \\\n",
    "'{\\\n",
    "query=$1;\\\n",
    "if (!(query in out) || $11 < evalue[query])\\\n",
    "    {evalue[query]=$11; out[query]=$0}\\\n",
    "}\\\n",
    "END{for(key in out){print out[key]}}'\\\n",
    "> negative_testing_topscores.bltab"
   ]
  },
  {
   "cell_type": "markdown",
   "metadata": {},
   "source": [
    "Just for simplicity I wrap all the various parsing operations in one function"
   ]
  },
  {
   "cell_type": "code",
   "execution_count": 63,
   "metadata": {},
   "outputs": [],
   "source": [
    "def get_vals(blast_filepath, fasta_filepath):\n",
    "    df = get_blasttab_df(blast_filepath)\n",
    "    with open(fasta_filepath) as fasta_file:\n",
    "        num_seqs = 0\n",
    "        for line in fasta_file:\n",
    "            if line[0] == \">\":\n",
    "                num_seqs += 1\n",
    "    vals = blast_complete_array(np.array(df[10]),num_seqs)\n",
    "    return vals"
   ]
  },
  {
   "cell_type": "markdown",
   "metadata": {},
   "source": [
    "Finally, let's see what happens!"
   ]
  },
  {
   "cell_type": "code",
   "execution_count": 64,
   "metadata": {},
   "outputs": [
    {
     "name": "stdout",
     "output_type": "stream",
     "text": [
      "Confusion matrix:\n",
      "\n",
      "[[  331    57]\n",
      " [10290    10]] \n",
      "\n",
      "Threshold: 3.553189604039684e-11\n",
      "ACC: 0.9937312874251497\n",
      "MCC: 0.9068841113786128\n"
     ]
    }
   ],
   "source": [
    "n_test_vals = get_vals(\"./negative_testing_topscores.bltab\",\"./human_SP_no_Kunitz_Testing.fasta\")\n",
    "p_test_vals = get_vals(\"./positive_training_testing_topscores.bltab\",\"./no_human_SP_Kunitz.fasta\")\n",
    "get_stats(training_thr_smooth, p_test_vals, n_test_vals)\n",
    "pass # just to avoid the print of the array by jupyter"
   ]
  },
  {
   "cell_type": "markdown",
   "metadata": {},
   "source": [
    "My method shows an MCC of 0.907 on the testing set.\n",
    "Here it is its placement with respect to other threshold values in the TESTING set."
   ]
  },
  {
   "cell_type": "code",
   "execution_count": 65,
   "metadata": {},
   "outputs": [
    {
     "data": {
      "image/png": "[encoded data removed]",
      "text/plain": [
       "<Figure size 432x288 with 1 Axes>"
      ]
     },
     "metadata": {},
     "output_type": "display_data"
    }
   ],
   "source": [
    "plot_MCC(p_test_vals, n_test_vals, -100, 100, training_thr_smooth)"
   ]
  },
  {
   "cell_type": "code",
   "execution_count": 66,
   "metadata": {},
   "outputs": [
    {
     "data": {
      "image/png": "[encoded data removed]",
      "text/plain": [
       "<Figure size 432x288 with 1 Axes>"
      ]
     },
     "metadata": {},
     "output_type": "display_data"
    }
   ],
   "source": [
    "plot_MCC(p_test_vals, n_test_vals, -20, 0, training_thr_smooth)"
   ]
  },
  {
   "cell_type": "code",
   "execution_count": 67,
   "metadata": {},
   "outputs": [
    {
     "data": {
      "image/png": "[encoded data removed]",
      "text/plain": [
       "<Figure size 432x288 with 1 Axes>"
      ]
     },
     "metadata": {},
     "output_type": "display_data"
    }
   ],
   "source": [
    "plot_MCC(p_test_vals, n_test_vals, -13, -7, training_thr_smooth)"
   ]
  }
 ],
 "metadata": {
  "kernelspec": {
   "display_name": "Python [conda env:LB1]",
   "language": "python",
   "name": "conda-env-LB1-py"
  },
  "language_info": {
   "codemirror_mode": {
    "name": "ipython",
    "version": 3
   },
   "file_extension": ".py",
   "mimetype": "text/x-python",
   "name": "python",
   "nbconvert_exporter": "python",
   "pygments_lexer": "ipython3",
   "version": "3.7.7"
  }
 },
 "nbformat": 4,
 "nbformat_minor": 4
}
