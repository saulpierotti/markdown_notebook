{
 "cells": [
  {
   "cell_type": "markdown",
   "metadata": {},
   "source": [
    "# Algorithms and Data Structures - Ivan Lanese module\n",
    "\n",
    "* Our main topic will be data structures (balanced trees, graphs) and algorithms (greedy, dynamic programming)\n",
    "* Recursion will be essential for exploring search trees\n",
    "\n",
    "Fibonacci recursive is incredibly slow with n above 35 while it can compute huge numbers in the iterative form."
   ]
  },
  {
   "cell_type": "code",
   "execution_count": 13,
   "metadata": {},
   "outputs": [
    {
     "data": {
      "text/plain": [
       "89"
      ]
     },
     "execution_count": 13,
     "metadata": {},
     "output_type": "execute_result"
    }
   ],
   "source": [
    "def fib(n):\n",
    "    if n==1 or n==0:\n",
    "        return 1\n",
    "    elif n>1:\n",
    "        return fib(n-1)+fib(n-2)\n",
    "    else:\n",
    "        print(\"fib not possible for negative numbers\")\n",
    "\n",
    "fib(10)"
   ]
  },
  {
   "cell_type": "code",
   "execution_count": null,
   "metadata": {},
   "outputs": [],
   "source": [
    "def fib(n):\n",
    "    if n==0 or n==1:\n",
    "        return 1\n",
    "    list = [1,1,2]\n",
    "    for i in range(n-2):\n",
    "        list=[list[1],list[2],list[1]+list[2]]\n",
    "    return list[2]\n",
    "    \n",
    "\n",
    "fib(100)"
   ]
  },
  {
   "cell_type": "markdown",
   "metadata": {},
   "source": [
    "## Balanced search trees\n",
    "* A balanced tree is a bynary search tree (BST) that minimizes the height of the tree\n",
    "    * In a BST the left subtree contains elements smaller than the root, the right subtree bigger\n",
    "    * The BST property is useful for lookups and must be mantained by insertions and deletions\n",
    "* I BSTs insertion and delition have a complexity linear with the height of the tree, $O(h)$\n",
    "    * In a complete BST $h=\\log{n}$, so insertion and deletion are $O(\\log{n})$ with $n =$ number of nodes\n",
    "* Insertions and deletions can make a complete BST unbalanced\n",
    "* A tree built from ordered elements is maximally unbalanced\n",
    "    * A way to create a generally balanced tree is to randomly permutate the input data when constructing the tree\n",
    "* Modifications of BST have been developped for maintaining it as balanced as possible"
   ]
  },
  {
   "cell_type": "markdown",
   "metadata": {},
   "source": [
    "## AVL trees\n",
    "* AVL trees are almost balanced BST that support `insert()`, `delete()` and `lookup()` in $O(\\log{n})$ time\n",
    "* AVL introduce a balancing factor for each node $\\beta(n)$\n",
    "    * It is the difference in the height of the 2 subtrees of the node\n",
    "    * A tree is balanced if for each node $|\\beta|$ < 1"
   ]
  },
  {
   "cell_type": "markdown",
   "metadata": {},
   "source": [
    "### Proof that for AVL $h=O(\\log{n})$\n",
    "* The most unbalanced AVL is a fibonacci tree\n",
    "    * It puts everything on one side but it leaves on the other side only what is needed to make it AVL\n",
    "    * It is defined as a BST of height $h$ having a left subtree of heigh $h-1$ and a right subtree of heigh $h-2$\n",
    "        * $n_h = n_{h-1} + n_{h-2} + 1$\n",
    "    * I want to prove that a fibonacci tree of heigh $h$ has $F_{h+3}-1$ nodes with $F_n$ being the $n^{th}$ fibonacci number\n",
    "    * Base case: $h=0$\n",
    "        * I have 1 node and it satisfies the condition\n",
    "            * $n_0 = 1, F_3 = 2$\n",
    "    * Induction: $n_h = n_{h-1} + n_{h-2} + 1$ by construction\n",
    "        * $n_h = n_{h-1} + n_{h-2} + 1=F_{h+2}-1+F_{h+1}-1+1=F_{h+3}-1$\n",
    "        * Since this is true for $h=0$, it is true for every $h$\n",
    "    * Since $F_h = \\Theta(\\phi^h)$ with $\\phi \\approx 1.618$\n",
    "        * $n_h = \\Theta(\\phi^h)$\n",
    "        * $\\Theta(\\log{n_h}) = \\Theta(h)$\n",
    "        * $h=\\Theta(\\log{n_h})$\n",
    "To be finished from last lecture"
   ]
  },
  {
   "cell_type": "markdown",
   "metadata": {},
   "source": [
    "## Exercise on recursion\n",
    "Computing the height of a node recursively has complexity O(n)\n",
    "\n",
    "```python\n",
    "def h(node):\n",
    "    if ((n is leaf) or (n==None)): # n is a leaf or it is not existent\n",
    "        return 0\n",
    "    else:\n",
    "        return max(h(n.left),h(n.right))+1\n",
    "```"
   ]
  },
  {
   "cell_type": "markdown",
   "metadata": {},
   "source": [
    "## B-trees\n",
    "* When I have a lot of data I cannot keep everithing in memory\n",
    "* B-trees are used for indexing large storages with slow access\n",
    "* I want to minimize disk access, since it is usually a bottleneck\n",
    "* I cannot read a single byte from a disk, it is read in sectors\n",
    "    * Also SSDs have a minimal access unit, the block\n",
    "* In B-trees I have keys and satellite data in all nodes\n",
    "* The grade $t \\geq 2$ of a B-tree is the minimum number of children that each node different from the root can have\n",
    "    * We select the grade so that a node can be as large as possible but fit in a single sector on the disk\n",
    "* It has the following properties\n",
    "    * All the leaves have the same depth\n",
    "    * Every node but the root maintains $v$ ordered keys with $t-1 \\leq v \\leq 2t-1$\n",
    "    * The root has $1 \\leq v \\leq 2t-1$\n",
    "    * The keys stored in the first subtree are smaller than the first key of the node, the ones in the second subtree are between the first and the second key, and so on\n",
    "* The heigh of a B-tree with n keys is $h \\leq \\log_t{(n+1)/2}$\n",
    "    * check proof"
   ]
  },
  {
   "cell_type": "markdown",
   "metadata": {},
   "source": [
    "### Search in B-trees\n",
    "* I check keys in the current node\n",
    "* If I don't find it I search it in the correct subtree\n",
    "* I visit $O(\\log_t{n})$ nodes and each time I have a cost of $O(t)$, so the total cost is $O(t\\log_t{n})$\n",
    "\n",
    "``` python\n",
    "def btree_search(v, k):\n",
    "    i = 1\n",
    "    while (i <= len(v) and key > v[i]):\n",
    "        i += 1\n",
    "    if (i <= len(v) and k==v[i]:\n",
    "        return v[i].data\n",
    "    elif (v is leaf):\n",
    "        return None\n",
    "    else:\n",
    "        return btree_search(v.child[i], k)        \n",
    "```\n",
    "\n",
    "* Note that the keys on a node are ordered: I can do a binary search instead of a linear search\n",
    "    * Binary search takes $O(\\log{n})$\n",
    "    * In this case the total complexity will be $O(\\log{t}\\log_t{n})=O(\\log{n})$"
   ]
  },
  {
   "cell_type": "markdown",
   "metadata": {},
   "source": [
    "### Insert in B-trees\n",
    "* I search the leaf $f$ in which I can insert the key $k$\n",
    "* If the leaf is not full (< 2t-1 keys) I insert $k$ in the correct position\n",
    "* If it is full I split the leaf $f$\n",
    "    * I put the key number $t$ of $f$ to $f.parent$\n",
    "        * If $f.p$ is full I need to split it and recurse\n",
    "        * In the worst case this will split the root and generate a new one\n",
    "* I cannot use binary search in this case since I cannot split an array in that way, I need to copy half of its elements in $O(t)$\n",
    "* Total cost is $O(t \\log_t{n})$"
   ]
  },
  {
   "cell_type": "markdown",
   "metadata": {},
   "source": [
    "### Delete in B-trees\n",
    "* I want to delete key $k$\n",
    "* I first search it\n",
    "* If it is not in a leaf\n",
    "    * I find the node containing the predecessor of k (biggest smaller value)\n",
    "    * I substitute the $k$ with $k.p$\n",
    "* If it is in a leaf\n",
    "    * If the leaf has more that $t-1$ keys I just delete it\n",
    "    * If it has $t-1$ keys\n",
    "        * If one brother of the leaf has more than $t-1$ keys I redistribute the keys\n",
    "        * If not I make a fusion with one of the brothers\n",
    "* It has the same complexity of insertion, $O(t \\log_t{n})$"
   ]
  },
  {
   "cell_type": "markdown",
   "metadata": {},
   "source": [
    "## Graphs\n",
    "* A graph is composed of a set of vertices and edges, $G=(V, E)$\n",
    "* An edge $e=(u,v)$ is a pair of vertices\n",
    "* A graph can be directed or undirected\n",
    "* A simple path is one in which I never pass on the same vertex\n",
    "* A cycle is a symple path with the same start and end vertex\n",
    "* Adjacent vertices are those connected by an edge\n",
    "* The degree of a vertex is the number of adjacent vertices that it has\n",
    "* A graph does not necessarily need to be connected\n",
    "    * There can be node or subgraphs that don't have edges between them\n",
    "* A strongly connected graph has edges between each pair of vertices\n",
    "* The strongly connected components of a graph are its maximal strongly connected subgraphs\n",
    "* A tree is a connected acyclic graph and a forest is a collection of trees\n",
    "* Fundamental graph operations ($G$, $v$, $e$ are graph, vertex, edge)\n",
    "    * `Create(G)`\n",
    "    * `IsEmpty(G)`\n",
    "    * `InsVertex(G,v)`\n",
    "    * `InsEdge(G,v1,v2)`\n",
    "    * `DelVertex(G,v)`\n",
    "    * `DelEdge(G,v1,v2)`\n",
    "    * `AdjSet(G,v)` (return the set of adjacent vertices of $v$)"
   ]
  },
  {
   "cell_type": "markdown",
   "metadata": {},
   "source": [
    "## Representations\n",
    "* I can represent a graph with a boolean matrix $M$ of dimensions $n^2$ with $n$ being the number of nodes\n",
    "    * The space requires is $O(n^2)$\n",
    "* I can use an adjacency list\n",
    "    * It is formed by a list for each vertex containing all the adjacent vertices to it\n",
    "    * Space is $\\Theta(n+\\sum deg(v))=\\Theta(n+m)$\n",
    "* I can use adjacency sets\n",
    "    * I have a vector for vertices and one for edges\n",
    "    * The edge vector is just a list of adjacent vertices for each node\n",
    "    * The node vector contains for each node the number of its adjacent vertices\n",
    "        * In low-level languages I also need to keep track of the end of the array, so I insert a fake node that starts at end of array + 1\n",
    "    * I can use the node vector to parse correctly the edge vector\n",
    "    * The space is $\\Theta(n+m)$"
   ]
  },
  {
   "cell_type": "code",
   "execution_count": null,
   "metadata": {},
   "outputs": [],
   "source": []
  }
 ],
 "metadata": {
  "kernelspec": {
   "display_name": "Python 3",
   "language": "python",
   "name": "python3"
  },
  "language_info": {
   "codemirror_mode": {
    "name": "ipython",
    "version": 3
   },
   "file_extension": ".py",
   "mimetype": "text/x-python",
   "name": "python",
   "nbconvert_exporter": "python",
   "pygments_lexer": "ipython3",
   "version": "3.7.7"
  }
 },
 "nbformat": 4,
 "nbformat_minor": 4
}
