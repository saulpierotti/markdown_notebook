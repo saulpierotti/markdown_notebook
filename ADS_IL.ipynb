{
 "cells": [
  {
   "cell_type": "markdown",
   "metadata": {},
   "source": [
    "# Algorithms and Data Structures - Ivan Lanese module\n",
    "\n",
    "* Our main topic will be data structures (balanced trees, graphs) and algorithms (greedy, dynamic programming)\n",
    "* Recursion will be essential for exploring search trees\n",
    "\n",
    "Fibonacci recursive is incredibly slow with n above 35 while it can compute huge numbers in the iterative form."
   ]
  },
  {
   "cell_type": "code",
   "execution_count": 13,
   "metadata": {},
   "outputs": [
    {
     "data": {
      "text/plain": [
       "89"
      ]
     },
     "execution_count": 13,
     "metadata": {},
     "output_type": "execute_result"
    }
   ],
   "source": [
    "def fib(n):\n",
    "    if n==1 or n==0:\n",
    "        return 1\n",
    "    elif n>1:\n",
    "        return fib(n-1)+fib(n-2)\n",
    "    else:\n",
    "        print(\"fib not possible for negative numbers\")\n",
    "\n",
    "fib(10)"
   ]
  },
  {
   "cell_type": "code",
   "execution_count": null,
   "metadata": {},
   "outputs": [],
   "source": [
    "def fib(n):\n",
    "    if n==0 or n==1:\n",
    "        return 1\n",
    "    list = [1,1,2]\n",
    "    for i in range(n-2):\n",
    "        list=[list[1],list[2],list[1]+list[2]]\n",
    "    return list[2]\n",
    "    \n",
    "\n",
    "fib(100)"
   ]
  },
  {
   "cell_type": "markdown",
   "metadata": {},
   "source": [
    "## Balanced search trees\n",
    "* A balanced tree is a bynary search tree (BST) that minimizes the height of the tree\n",
    "    * In a BST the left subtree contains elements smaller than the root, the right subtree bigger\n",
    "    * The BST property is useful for lookups and must be mantained by insertions and deletions\n",
    "* I BSTs insertion and delition have a complexity linear with the height of the tree, $O(h)$\n",
    "    * In a complete BST $h=\\log{n}$, so insertion and deletion are $O(\\log{n})$ with $n =$ number of nodes\n",
    "* Insertions and deletions can make a complete BST unbalanced\n",
    "* A tree built from ordered elements is maximally unbalanced\n",
    "    * A way to create a generally balanced tree is to randomly permutate the input data when constructing the tree\n",
    "* Modifications of BST have been developped for maintaining it as balanced as possible"
   ]
  },
  {
   "cell_type": "markdown",
   "metadata": {},
   "source": [
    "### AVL trees\n",
    "* AVL trees are almost balanced BST that support `insert()`, `delete()` and `lookup()` in $O(\\log{n})$ time\n",
    "* AVL introduce a balancing factor for each node $\\beta(n)$\n",
    "    * It is the difference in the height of the 2 subtrees of the node\n",
    "    * A tree is balanced if for each node $|\\beta|$ < 1"
   ]
  },
  {
   "cell_type": "markdown",
   "metadata": {},
   "source": [
    "#### Proof that for AVL $h=O(\\log{n})$\n",
    "* The most unbalanced AVL is a fibonacci tree\n",
    "    * It puts everything on one side but it leaves on the other side only what is needed to make it AVL\n",
    "    * It is defined as a BST of height $h$ having a left subtree of heigh $h-1$ and a right subtree of heigh $h-2$\n",
    "        * $n_h = n_{h-1} + n_{h-2} + 1$\n",
    "    * I want to prove that a fibonacci tree of heigh $h$ has $F_{h+3}-1$ nodes with $F_n$ being the $n^{th}$ fibonacci number\n",
    "    * Base case: $h=0$\n",
    "        * I have 1 node and it satisfies the condition\n",
    "            * $n_0 = 1, F_3 = 2$\n",
    "    * Induction: $n_h = n_{h-1} + n_{h-2} + 1$ by construction\n",
    "        * $n_h = n_{h-1} + n_{h-2} + 1=F_{h+2}-1+F_{h+1}-1+1=F_{h+3}-1$\n",
    "        * Since this is true for $h=0$, it is true for every $h$\n",
    "    * Since $F_h = \\Theta(\\phi^h)$ with $\\phi \\approx 1.618$\n",
    "        * $n_h = \\Theta(\\phi^h)$\n",
    "        * $\\Theta(\\log{n_h}) = \\Theta(h)$\n",
    "        * $h=\\Theta(\\log{n_h})$\n",
    "To be finished from last lecture"
   ]
  },
  {
   "cell_type": "markdown",
   "metadata": {},
   "source": [
    "## Exercise on recursion"
   ]
  },
  {
   "cell_type": "code",
   "execution_count": 2,
   "metadata": {},
   "outputs": [],
   "source": [
    "# computing the height of a node recursively has complexity O(n)\n",
    "def h(node):\n",
    "    if (n.left==None and n.right==None) or n==None: # n is a leaf or it is not existent\n",
    "        return 0\n",
    "    else:\n",
    "        return max(h(n.left),h(n.right))+1"
   ]
  },
  {
   "cell_type": "markdown",
   "metadata": {},
   "source": [
    "### B-trees\n",
    "* When I have a lot of data I cannot keep everithing in memory\n",
    "* I want to minimize disk access, since it is usually a bottleneck\n",
    "* I cannot read a single byte from a disk, it is read in sectors\n",
    "    * Also SSDs have a minimal access unit, the block\n"
   ]
  }
 ],
 "metadata": {
  "kernelspec": {
   "display_name": "Python 3",
   "language": "python",
   "name": "python3"
  },
  "language_info": {
   "codemirror_mode": {
    "name": "ipython",
    "version": 3
   },
   "file_extension": ".py",
   "mimetype": "text/x-python",
   "name": "python",
   "nbconvert_exporter": "python",
   "pygments_lexer": "ipython3",
   "version": "3.7.7"
  }
 },
 "nbformat": 4,
 "nbformat_minor": 4
}
