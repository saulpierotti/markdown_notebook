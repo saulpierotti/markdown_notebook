{
 "cells": [
  {
   "cell_type": "markdown",
   "metadata": {},
   "source": [
    "# Algorithms and Data Structures - Ivan Lanese module\n",
    "\n",
    "* Our main topic will be data structures (balanced trees, graphs) and algorithms (greedy, dynamic programming)\n",
    "* Recursion will be essential for exploring search trees\n",
    "\n",
    "Fibonacci recursive is incredibly slow with n above 35 while it can compute huge numbers in the iterative form."
   ]
  },
  {
   "cell_type": "code",
   "execution_count": 13,
   "metadata": {},
   "outputs": [
    {
     "data": {
      "text/plain": [
       "89"
      ]
     },
     "execution_count": 13,
     "metadata": {},
     "output_type": "execute_result"
    }
   ],
   "source": [
    "def fib(n):\n",
    "    if n==1 or n==0:\n",
    "        return 1\n",
    "    elif n>1:\n",
    "        return fib(n-1)+fib(n-2)\n",
    "    else:\n",
    "        print(\"fib not possible for negative numbers\")\n",
    "\n",
    "fib(10)"
   ]
  },
  {
   "cell_type": "code",
   "execution_count": null,
   "metadata": {},
   "outputs": [],
   "source": [
    "def fib(n):\n",
    "    if n==0 or n==1:\n",
    "        return 1\n",
    "    list = [1,1,2]\n",
    "    for i in range(n-2):\n",
    "        list=[list[1],list[2],list[1]+list[2]]\n",
    "    return list[2]\n",
    "    \n",
    "\n",
    "fib(100)"
   ]
  },
  {
   "cell_type": "markdown",
   "metadata": {},
   "source": [
    "## Balanced search trees\n",
    "* A balanced tree is a bynary search tree (BST) that minimizes the height of the tree\n",
    "    * In a BST the left subtree contains elements smaller than the root, the right subtree bigger\n",
    "    * The BST property is useful for lookups and must be mantained by insertions and deletions\n",
    "* I BSTs insertion and delition have a complexity linear with the height of the tree, O(h)\n",
    "    * In a complete BST h=log n, so insertion and deletion are O(log n) with n = number of nodes\n",
    "* A way to create a generally balanced tree is to randomly permutate the input data when constructing the tree\n",
    "* I need also to maintain the balance during tree operations\n",
    "\n",
    "### AVL trees\n",
    "* The balancing factor of any node $\\beta(n)$ is the difference in the height of the 2 subtrees of the node\n",
    "* The AVL tree is balanced where for any node $\\beta$ is 0\n",
    "* The most unbalanced AVL tree is a fibonacci tree"
   ]
  },
  {
   "cell_type": "code",
   "execution_count": null,
   "metadata": {},
   "outputs": [],
   "source": []
  }
 ],
 "metadata": {
  "kernelspec": {
   "display_name": "Python 3",
   "language": "python",
   "name": "python3"
  },
  "language_info": {
   "codemirror_mode": {
    "name": "ipython",
    "version": 3
   },
   "file_extension": ".py",
   "mimetype": "text/x-python",
   "name": "python",
   "nbconvert_exporter": "python",
   "pygments_lexer": "ipython3",
   "version": "3.7.7"
  }
 },
 "nbformat": 4,
 "nbformat_minor": 4
}
