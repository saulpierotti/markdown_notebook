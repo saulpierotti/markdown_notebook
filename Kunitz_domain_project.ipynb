{
 "cells": [
  {
   "cell_type": "code",
   "execution_count": 1,
   "metadata": {},
   "outputs": [
    {
     "data": {
      "text/plain": [
       "<Handlers.SIG_IGN: 1>"
      ]
     },
     "execution_count": 1,
     "metadata": {},
     "output_type": "execute_result"
    }
   ],
   "source": [
    "# this avoids broken pipes by making the default system handler handle the SIGPIPE call\n",
    "# see https://stackoverflow.com/questions/14207708/ioerror-errno-32-broken-pipe-python\n",
    "from signal import signal, SIGPIPE, SIG_DFL\n",
    "signal(SIGPIPE, SIG_DFL)"
   ]
  },
  {
   "cell_type": "markdown",
   "metadata": {},
   "source": [
    "# Kunitz-BPTI domain LB1 project\n",
    "---"
   ]
  },
  {
   "cell_type": "markdown",
   "metadata": {},
   "source": [
    "The aim of this project is building an HMM of the Kunitz-BPTI domain starting from structural information.\n",
    "This HMM wil be then validated against the SwissProt database.\n",
    "Note that Kunitz-BPTI is a subset of the Kunitz domain.\n",
    "\n",
    "* Kunitz-BPTI domain in Pfam: `PF00014`\n",
    "* Uniprot entry of the bovin pancreatic trypsin inhibitor (BPT1_BOVIN): `P00974`\n",
    "* CATH entry of the Kunitz domain: `4.10.410.10`\n",
    "* A sample PDB structure:`3TGI`"
   ]
  },
  {
   "cell_type": "markdown",
   "metadata": {},
   "source": [
    "# Creation of the seed\n",
    "\n",
    "## PDB search of the PFAM domain\n",
    "I search on the PDB with the following query:\n",
    "\n",
    "`Resolution (Å) < 3.5 AND Annotation Identifier equals \"PF00014\" AND Annotation Type equals \"Pfam\"`\n",
    "\n",
    "I retrieve 244 PDB structures.\n",
    "I save the result in `pdb_ids_pf00014.csv` and I open it here with pandas.\n",
    "A list of the IDs only is here:"
   ]
  },
  {
   "cell_type": "code",
   "execution_count": null,
   "metadata": {},
   "outputs": [],
   "source": [
    "import pandas as pd\n",
    "\n",
    "pdb_ids_pf00014 = pd.read_csv(\"./pdb_ids_pf00014.csv\")\n",
    "pdb_ids_pf00014.head()"
   ]
  },
  {
   "cell_type": "markdown",
   "metadata": {},
   "source": [
    "I extract a file containing only the IDs, `pdb_ids_pf00014.list`"
   ]
  },
  {
   "cell_type": "code",
   "execution_count": null,
   "metadata": {},
   "outputs": [],
   "source": [
    "with open(\"./pdb_ids_pf00014.list\", \"w\") as fileout:\n",
    "    for pdb_id in pdb_ids_pf00014[\"PDB ID\"]:\n",
    "        fileout.write(pdb_id+\"\\n\")\n",
    "\n",
    "!head pdb_ids_pf00014.list"
   ]
  },
  {
   "cell_type": "markdown",
   "metadata": {},
   "source": [
    "## Screening of the results with PDBeFold\n",
    "In order to remove non-relevant proteins I aligned the structure of the BPTI Kunitz protein 3TGI chain I with all the structures that I retrieved.\n",
    "The following IDs were not recognised by the server:\n",
    "\n",
    "`2y2a 2y29 5txd 6nb9`\n",
    "\n",
    "I manually checked these IDs and they are all peptides or parts of amiloid proteins.\n",
    "I save the results in `pdbfold_3tgi_pf00014.dat` and I parse it with pandas.\n",
    "I save the results in fasta format in `pdbfold_3tgi_pf00014.fasta`."
   ]
  },
  {
   "cell_type": "code",
   "execution_count": null,
   "metadata": {},
   "outputs": [],
   "source": [
    "def get_pdbfold_df(filepath):\n",
    "    with open(filepath) as dat_filein:\n",
    "        pdbfold_df = pd.read_csv(dat_filein, skiprows=(0, 1, 2, 3), sep=\"\\s+\").set_index('##')\n",
    "    pdbfold_df[\"Query\"]= pdbfold_df[\"Query\"].str.split(\":\")\n",
    "    pdbfold_df[\"Target\"]= pdbfold_df[\"Target\"].str.split(\":\")\n",
    "    return pdbfold_df\n",
    "\n",
    "pdbfold_3tgi_pf00014 = get_pdbfold_df(\"pdbfold_3tgi_pf00014.dat\")\n",
    "pdbfold_3tgi_pf00014.head()"
   ]
  },
  {
   "cell_type": "markdown",
   "metadata": {},
   "source": [
    "## Clustering of the sequences with cd-hit"
   ]
  },
  {
   "cell_type": "markdown",
   "metadata": {},
   "source": [
    "I cluster the seqeunces in the fasta file with cd-hit, to get a series of representatives.\n",
    "I use default parameters and I get 20 clusters.\n",
    "It is produced also a .clstr file containing additional info on the clusters.\n",
    "The representative selected by the software is the one with the longest sequence."
   ]
  },
  {
   "cell_type": "code",
   "execution_count": null,
   "metadata": {},
   "outputs": [],
   "source": [
    "!cd-hit -i pdbfold_3tgi_pf00014.fasta -o pdbfold_3tgi_pf00014_clustered.fasta"
   ]
  },
  {
   "cell_type": "code",
   "execution_count": null,
   "metadata": {},
   "outputs": [],
   "source": [
    "!head pdbfold_3tgi_pf00014.fasta"
   ]
  },
  {
   "cell_type": "code",
   "execution_count": null,
   "metadata": {},
   "outputs": [],
   "source": [
    "!cat pdbfold_3tgi_pf00014_clustered.fasta|grep \">\""
   ]
  },
  {
   "cell_type": "markdown",
   "metadata": {},
   "source": [
    "Now I extract the pdb IDs from the clustered output"
   ]
  },
  {
   "cell_type": "code",
   "execution_count": null,
   "metadata": {},
   "outputs": [],
   "source": [
    "!cat pdbfold_3tgi_pf00014_clustered.fasta|grep \">\"|awk 'BEGIN {FS=OFS=\":\"} {print $2, $3}'| cut -d \" \" -f 1|tee clustered_pdbids.list"
   ]
  },
  {
   "cell_type": "markdown",
   "metadata": {},
   "source": [
    "## Manual curation of the seed\n",
    "\n",
    "* 1yld:B mutant BPTI cluster 16\n",
    "* 1t8l:D mutant BPTI cluster 9\n",
    "* 5jb7:B mutant BPTI cluster 12\n",
    "* 1fak:I mutant BPTI cluster 17\n",
    "* 4u32:X HAI2 KD1, ok\n",
    "* 4bqd:B TFPI human KD1, ok\n",
    "* 1yc0:I HAI1 KD2, only domain but ok\n",
    "* 4dtg:K TFPI human KD2, ok\n",
    "* 1zjd:B Nexin2 human (amiloid beta precursor) KD, ok\n",
    "* 5zj3:B Textilinin 2, ok\n",
    "* 6q61:A cunucotoxin, ok\n",
    "* 1zr0:B TFPI2 human KD1, ok\n",
    "* 4u30:X AMBP KD2, ok\n",
    "* 5yv7:A dendroaspis calcicudine, ok\n",
    "* 1dtx:A green mamba, ok\n",
    "* 3m7q:B SHPI-1 from anemone, ok\n",
    "* 2knt:A KD of human collagen\n",
    "* 4ntx:B snake toxin MitTx, ok\n",
    "* 1bun:B beta-bungarotoxin, ok\n",
    "* 1d0d:A anticoagulant toxin from tick, sequence much different see below analysis\n",
    "\n",
    "1d0d is a Factor X inhibitor from the tick Ornithodoros moubata its sequence is much different that that of other Kunitz-BPTI domains and in PDBe it is not annotated as Kunitz.\n",
    "Because of this I will exclude it.\n",
    "In addition it is complexed with BPTI, so I suspect a missannotation.\n",
    "Only CATH reports it as BPTI-Kunitz.\n",
    "\n",
    "I will select only 1 representative for the bovin BPTI, which corresponds to clusters 9, 12, 16, 17.\n",
    "I will select the longest one that is not mutant.\n",
    "To do so I first extract the PDB IDs and then is sort them by chain lenght.\n",
    "I select the longest non-mutants.\n",
    "Among these, I select the one with the highest resolution.\n",
    "This happens to be `5pti:a`."
   ]
  },
  {
   "cell_type": "code",
   "execution_count": null,
   "metadata": {},
   "outputs": [],
   "source": [
    "!cat P00974_clusters.clstr|grep -v \"^>\"|awk '{print $2, $3}'|awk 'BEGIN{FS=\":\"}{print $1, $2}'|awk 'BEGIN{FS=\"aa, >PDB\"}{print $1, $2}'|sort -ruk 1"
   ]
  },
  {
   "cell_type": "markdown",
   "metadata": {},
   "source": [
    "I save the manually edited file in `curated_seed.fasta`.\n",
    "Now I have 16 sequences."
   ]
  },
  {
   "cell_type": "code",
   "execution_count": null,
   "metadata": {},
   "outputs": [],
   "source": [
    "!cat curated_seed.fasta|grep \">\"|wc -l"
   ]
  },
  {
   "cell_type": "code",
   "execution_count": null,
   "metadata": {},
   "outputs": [],
   "source": [
    "!cat curated_seed.fasta|grep \">\"|awk 'BEGIN {FS=OFS=\":\"} {print $2, $3}'| cut -d \" \" -f 1 > curated_seed.list"
   ]
  },
  {
   "cell_type": "markdown",
   "metadata": {},
   "source": [
    "## Structural alignment with PDBeFold\n",
    "I perform a structural MSA using the PDBeFold webserver.\n",
    "The alignment is in `pdbfold_seed_msa.seq`.\n",
    "I save also the xml output of the alignment and the pdb file with the superimposition.\n",
    "1bun and 4ntx show an RMSD of 1.5, but they are annotated with  PF00014 so I will keep them."
   ]
  },
  {
   "cell_type": "markdown",
   "metadata": {},
   "source": [
    "# HMM from the seed alignment\n",
    "I use hmmbuild to create my HMM from the alignment"
   ]
  },
  {
   "cell_type": "code",
   "execution_count": null,
   "metadata": {},
   "outputs": [],
   "source": [
    "!hmmbuild -n Kunitz-BPTI kunitz_bpti.hmm pdbfold_seed_msa.seq"
   ]
  },
  {
   "attachments": {
    "image.png": {
     "image/png": "[encoded data removed]"
    }
   },
   "cell_type": "markdown",
   "metadata": {},
   "source": [
    "This is my HMM logo and it is almost identical to the one in Pfam\n",
    "\n",
    "![image.png](attachment:image.png)\n",
    "\n",
    "# Creation of the training and testing sets\n",
    "The professor decided to do a 2-fold crossvalidation ignoring data stratification.\n",
    "The positives for my model will be all the SwissPort proteins annotated with PF00014. This includes 359 sequences.\n",
    "\n",
    "`database:(type:pfam pf00014) AND reviewed:yes`\n",
    "\n",
    "The positives for my model will be all the SwissPort proteins annotated without PF00014. This includes 561552 sequences.\n",
    "\n",
    "`NOT database:(type:pfam pf00014) AND reviewed:yes`\n"
   ]
  },
  {
   "cell_type": "code",
   "execution_count": 143,
   "metadata": {},
   "outputs": [
    {
     "name": "stdout",
     "output_type": "stream",
     "text": [
      "359\n"
     ]
    }
   ],
   "source": [
    "!cat positives_all.fasta|grep \">\"|wc -l"
   ]
  },
  {
   "cell_type": "code",
   "execution_count": 144,
   "metadata": {},
   "outputs": [
    {
     "name": "stdout",
     "output_type": "stream",
     "text": [
      "561552\n"
     ]
    }
   ],
   "source": [
    "!cat negatives_all.fasta|grep \">\"|wc -l"
   ]
  },
  {
   "cell_type": "markdown",
   "metadata": {},
   "source": [
    "## Filtering of seed sequences from the positive set\n",
    "I want to remove from the positive set the sequences that I used in training.\n",
    "I can do it by blasting the positives against the curated seed used in building the model.\n",
    "I will remove all the sequences with 100% local sequence identity with the seed.\n",
    "The sequence identity should be considered in realtion to the lenght of the matched sequence.\n",
    "However, selecting a small E-value in the search we are effectively removing short matches.\n",
    "I wrote a python script for removing the unwanted sequences."
   ]
  },
  {
   "cell_type": "code",
   "execution_count": 8,
   "metadata": {},
   "outputs": [
    {
     "name": "stdout",
     "output_type": "stream",
     "text": [
      "\n",
      "\n",
      "Building a new DB, current time: 04/21/2020 15:13:58\n",
      "New DB name:   /home/saul/currently_working/LB1/project/curated_seed.fasta\n",
      "New DB title:  curated_seed.fasta\n",
      "Sequence type: Protein\n",
      "Keep MBits: T\n",
      "Maximum file size: 1000000000B\n",
      "Adding sequences from FASTA; added 16 sequences in 0.000672102 seconds.\n"
     ]
    }
   ],
   "source": [
    "!makeblastdb -in curated_seed.fasta -dbtype prot"
   ]
  },
  {
   "cell_type": "code",
   "execution_count": 11,
   "metadata": {},
   "outputs": [],
   "source": [
    "!cat positives_all.fasta|blastp -db curated_seed.fasta -out positives_against_seed.bltab -outfmt 6 -evalue 1e-03"
   ]
  },
  {
   "cell_type": "code",
   "execution_count": null,
   "metadata": {},
   "outputs": [],
   "source": [
    "!cat positives_against_seed.bltab|awk '{if ($3==100){print $1}}' |tee to_be_removed_from_positives.list"
   ]
  },
  {
   "cell_type": "code",
   "execution_count": null,
   "metadata": {},
   "outputs": [],
   "source": [
    "!strip_from_fasta.py positives_all.fasta to_be_removed_from_positives.list|tee positives_all_cleaned.fasta"
   ]
  },
  {
   "cell_type": "markdown",
   "metadata": {},
   "source": [
    "# Training and validation\n",
    "I want to build an automated pipeline to do cross-validation and obtain a performance for my model in a rigorous way.\n",
    "I want to do multiple replicates with random shuffling.\n",
    "First I prepare a complete dataset containing all my data with E-value and labeled classes.\n",
    "I create 2 datasets, 1 with global and 1 with local E-value.\n",
    "I will at the end compare the performance of both.\n",
    "I use the -Z and -domZ options of hmmsearch to set the database size to the total number of sequences (positives+negatives).\n",
    "\n",
    "## Data pre-processing in bash"
   ]
  },
  {
   "cell_type": "code",
   "execution_count": 2,
   "metadata": {},
   "outputs": [
    {
     "name": "stdout",
     "output_type": "stream",
     "text": [
      "561898\n",
      "346\n",
      "561552\n"
     ]
    }
   ],
   "source": [
    "!cat positives_all_cleaned.fasta negatives_all.fasta|grep \">\"|wc -l # total size of the database\n",
    "!cat positives_all_cleaned.fasta|grep \">\"|wc -l\n",
    "!cat negatives_all.fasta|grep \">\"|wc -l"
   ]
  },
  {
   "cell_type": "code",
   "execution_count": 4,
   "metadata": {},
   "outputs": [
    {
     "name": "stdout",
     "output_type": "stream",
     "text": [
      "5053\n",
      "1096292\n"
     ]
    }
   ],
   "source": [
    "# initial hmmsearch on the entire datasets\n",
    "# I use HMM search for obtaining an E-value on all datasets.\n",
    "# I use the -max flag to disable all heuristics.\n",
    "!hmmsearch -Z 1 --cpu 8 --max --tblout positives_all_cleaned.hmmsearch.tbl kunitz_bpti.hmm positives_all_cleaned.fasta|tee positives_all_cleaned.hmmsearch|wc -l\n",
    "!hmmsearch -Z 1 --cpu 8 --max --tblout negatives_all.hmmsearch.tbl kunitz_bpti.hmm negatives_all.fasta|tee negatives_all.hmmsearch|wc -l"
   ]
  },
  {
   "cell_type": "code",
   "execution_count": 5,
   "metadata": {},
   "outputs": [
    {
     "name": "stdout",
     "output_type": "stream",
     "text": [
      "346\n",
      "274032\n",
      "346\n",
      "274032\n"
     ]
    }
   ],
   "source": [
    "# processing of the results\n",
    "!hmmalign_to_dataset.sh positives_all_cleaned.hmmsearch.tbl 1 1|tee positives_all_cleaned_local.dat|wc -l\n",
    "!hmmalign_to_dataset.sh negatives_all.hmmsearch.tbl 0 1|tee negatives_all_local.dat|wc -l\n",
    "!hmmalign_to_dataset.sh positives_all_cleaned.hmmsearch.tbl 1 0|tee positives_all_cleaned_global.dat|wc -l\n",
    "!hmmalign_to_dataset.sh negatives_all.hmmsearch.tbl 0 0|tee negatives_all_global.dat|wc -l"
   ]
  },
  {
   "cell_type": "code",
   "execution_count": 6,
   "metadata": {},
   "outputs": [
    {
     "name": "stdout",
     "output_type": "stream",
     "text": [
      "346\n",
      "561552\n"
     ]
    }
   ],
   "source": [
    "# list of all IDs in the real set\n",
    "!ID_from_uniprot_fasta.sh positives_all_cleaned.fasta|tee positives_all_cleaned.list|wc -l\n",
    "!ID_from_uniprot_fasta.sh negatives_all.fasta|tee negatives_all.list|wc -l"
   ]
  },
  {
   "cell_type": "code",
   "execution_count": 7,
   "metadata": {},
   "outputs": [
    {
     "name": "stdout",
     "output_type": "stream",
     "text": [
      "346\n",
      "561552\n",
      "346\n",
      "561552\n"
     ]
    }
   ],
   "source": [
    "# complete the dataset with missing IDs\n",
    "!add_missing_IDs.sh positives_all_cleaned_local.dat positives_all_cleaned.list 10 1|tee positives_all_cleaned_local_complete.dat|wc -l\n",
    "!add_missing_IDs.sh negatives_all_local.dat negatives_all.list 10 0|tee negatives_all_local_complete.dat|wc -l\n",
    "!add_missing_IDs.sh positives_all_cleaned_global.dat positives_all_cleaned.list 10 1|tee positives_all_cleaned_global_complete.dat|wc -l\n",
    "!add_missing_IDs.sh negatives_all_global.dat negatives_all.list 10 0|tee negatives_all_global_complete.dat|wc -l"
   ]
  },
  {
   "cell_type": "code",
   "execution_count": 8,
   "metadata": {},
   "outputs": [
    {
     "name": "stdout",
     "output_type": "stream",
     "text": [
      "561898\n",
      "561898\n"
     ]
    }
   ],
   "source": [
    "# merging of positives and negatives\n",
    "!cat positives_all_cleaned_local_complete.dat negatives_all_local_complete.dat|tee final_dataset_local.dat|wc -l\n",
    "!cat positives_all_cleaned_global_complete.dat negatives_all_global_complete.dat|tee final_dataset_global.dat|wc -l"
   ]
  },
  {
   "cell_type": "code",
   "execution_count": 11,
   "metadata": {},
   "outputs": [
    {
     "name": "stdout",
     "output_type": "stream",
     "text": [
      "\n",
      "Positives worst local\n",
      "D3GGZ8 2.6e-07 1\n",
      "O62247 3.1e-08 1\n",
      "Q11101 1.9e-10 1\n",
      "P86963 1.9e-10 1\n",
      "P0CH75 2.4e-13 1\n",
      "Q9BQY6 7e-14 1\n",
      "P0CAR0 5.4e-14 1\n",
      "P86964 5.3e-14 1\n",
      "P26226 4.3e-14 1\n",
      "H2A0N5 2.9e-14 1\n",
      "\n",
      "Negatives best local\n",
      "G3LH89 4.8e-24 0\n",
      "P56409 3.5e-09 0\n",
      "P84555 1.1e-08 0\n",
      "P83605 1.5e-07 0\n",
      "P85039 3.9e-07 0\n",
      "P0DJ63 6.1e-07 0\n",
      "P84556 2.6e-06 0\n",
      "P36235 2.8e-06 0\n",
      "P85040 4.1e-06 0\n",
      "P71089 4.3e-06 0\n",
      "\n",
      "Positives worst global\n",
      "D3GGZ8 2.6e-07 1\n",
      "O62247 7.8e-09 1\n",
      "Q11101 1.9e-10 1\n",
      "P86963 1.9e-10 1\n",
      "P0CH75 2.2e-13 1\n",
      "Q9BQY6 7e-14 1\n",
      "P0CAR0 5.4e-14 1\n",
      "P26226 3.3e-14 1\n",
      "Q2ES49 1.5e-16 1\n",
      "Q7Z1K3 1.1e-16 1\n",
      "\n",
      "Negatives best global\n",
      "G3LH89 4e-24 0\n",
      "P56409 3.5e-09 0\n",
      "P84555 1.1e-08 0\n",
      "P83605 1.5e-07 0\n",
      "P85039 3.8e-07 0\n",
      "P0DJ63 6.1e-07 0\n",
      "P36235 2.1e-06 0\n",
      "P71089 2.2e-06 0\n",
      "P84556 2.6e-06 0\n",
      "P85040 4.1e-06 0\n"
     ]
    }
   ],
   "source": [
    "# best and worst results\n",
    "!echo\n",
    "!echo \"Positives worst local\"\n",
    "!cat final_dataset_local.dat|awk '{if ($3==1){print $0}}'|sort -rgk 2|head\n",
    "!echo\n",
    "!echo \"Negatives best local\"\n",
    "!cat final_dataset_local.dat|awk '{if ($3==0){print $0}}'|sort -gk 2|head\n",
    "!echo\n",
    "!echo \"Positives worst global\"\n",
    "!cat final_dataset_global.dat|awk '{if ($3==1){print $0}}'|sort -rgk 2|head\n",
    "!echo\n",
    "!echo \"Negatives best global\"\n",
    "!cat final_dataset_global.dat|awk '{if ($3==0){print $0}}'|sort -gk 2|head"
   ]
  },
  {
   "cell_type": "code",
   "execution_count": 13,
   "metadata": {},
   "outputs": [
    {
     "name": "stdout",
     "output_type": "stream",
     "text": [
      "Confusion matrix:\n",
      "(346, 184)\n",
      "(561368, 0)\n",
      "\n",
      "ACC: 0.9996725384322421 MCC: 0.8078466934782291\n",
      "\n",
      "Confusion matrix:\n",
      "(346, 312)\n",
      "(561240, 0)\n",
      "\n",
      "ACC: 0.9994447390807585 MCC: 0.7249439359384886\n"
     ]
    }
   ],
   "source": [
    "# just to check that everithing worked out\n",
    "!model_stats.py final_dataset_local.dat 1e-03\n",
    "!echo\n",
    "!model_stats.py final_dataset_global.dat 1e-03"
   ]
  },
  {
   "cell_type": "markdown",
   "metadata": {},
   "source": [
    "## Hard core work in python\n",
    "I wrote a script that does the optimization and returns a report of the cross-validation on an 80/20 split.\n",
    "It does 100 randomised replicates.\n",
    "I also produce a roc curve and a graph of threshold vs MCC."
   ]
  },
  {
   "cell_type": "code",
   "execution_count": 27,
   "metadata": {},
   "outputs": [
    {
     "name": "stdout",
     "output_type": "stream",
     "text": [
      "Inizialising dataset: Global E value\n",
      "\n",
      "Splitting the dataset in 5 Kfolds\n",
      "\n",
      "Training on fold 1\n",
      "1e-30 0.32960000637130327\n",
      "1e-27 0.6453815883322533\n",
      "1e-24 0.8230443674319242\n",
      "1e-21 0.9068484270401117\n",
      "1e-18 0.9742924511658673\n",
      "1e-15 0.9853919024707484\n",
      "1e-12 0.9927227566696504\n",
      "1e-09 0.9963680060725786\n",
      "1e-06 0.992827028754596\n",
      "0.001 0.7241704418167882\n",
      "1 0.026284237908432637\n",
      "Selected threshold: 1e-09\n",
      "\n",
      "Performance on fold 1\n",
      "    Training set\tTest set\n",
      "AUC 0.9999999677395398 0.9999968200262029\n",
      "ACC 0.9999955507899573 0.9999911016195052\n",
      "MCC 0.9963680060725786 0.9929283531245002\n",
      "CM [[449242      0]\n",
      " [     2    274]] [[112309      1]\n",
      " [     0     70]]\n",
      "\n",
      "Training on fold 2\n",
      "1e-30 0.323473921124738\n",
      "1e-27 0.6300510666459567\n",
      "1e-24 0.8082635701858518\n",
      "1e-21 0.9052173024743552\n",
      "1e-18 0.9762450473299689\n",
      "1e-15 0.9872827508636214\n",
      "1e-12 0.9927556955311994\n",
      "1e-09 0.9945733343960319\n",
      "1e-06 0.9893358953739295\n",
      "0.001 0.7200207224240345\n",
      "1 0.026333956704383397\n",
      "Selected threshold: 1e-09\n",
      "\n",
      "Performance on fold 2\n",
      "    Training set\tTest set\n",
      "AUC 0.999999260686438 0.9999999999999999\n",
      "ACC 0.9999933261849359 1.0\n",
      "MCC 0.9945733343960319 1.0\n",
      "CM [[449240      1]\n",
      " [     2    275]] [[112311      0]\n",
      " [     0     69]]\n",
      "\n",
      "Training on fold 3\n",
      "1e-30 0.3344429820981038\n",
      "1e-27 0.6357544171251717\n",
      "1e-24 0.8215564701414909\n",
      "1e-21 0.8992129932683527\n",
      "1e-18 0.9762450473299689\n",
      "1e-15 0.9854516981615774\n",
      "1e-12 0.9927556955311994\n",
      "1e-09 0.996387665720048\n",
      "1e-06 0.9928526312572037\n",
      "0.001 0.720696650072671\n",
      "1 0.026370431690345846\n",
      "Selected threshold: 1e-09\n",
      "\n",
      "Performance on fold 3\n",
      "    Training set\tTest set\n",
      "AUC 0.9999993249745739 0.9999997419174681\n",
      "ACC 0.9999955507899573 0.9999911016195052\n",
      "MCC 0.996387665720048 0.9927227566893256\n",
      "CM [[449240      1]\n",
      " [     1    276]] [[112311      0]\n",
      " [     1     68]]\n",
      "\n",
      "Training on fold 4\n",
      "1e-30 0.3178475051687885\n",
      "1e-27 0.644214869572189\n",
      "1e-24 0.8215564703246393\n",
      "1e-21 0.9111821291246219\n",
      "1e-18 0.9836172452503563\n",
      "1e-15 0.9891104222308852\n",
      "1e-12 0.9927556955410912\n",
      "1e-09 0.9963876657250029\n",
      "1e-06 0.991089587789762\n",
      "0.001 0.728259530213896\n",
      "1 0.026354919505687656\n",
      "Selected threshold: 1e-09\n",
      "\n",
      "Performance on fold 4\n",
      "    Training set\tTest set\n",
      "AUC 0.9999993089040782 1.0\n",
      "ACC 0.9999955507998549 0.9999911015403233\n",
      "MCC 0.9963876657250029 0.9927227566499749\n",
      "CM [[449241      1]\n",
      " [     1    276]] [[112310      0]\n",
      " [     1     68]]\n",
      "\n",
      "Training on fold 5\n",
      "1e-30 0.3062848384084808\n",
      "1e-27 0.6357544173849626\n",
      "1e-24 0.8015345898976203\n",
      "1e-21 0.8992129933874421\n",
      "1e-18 0.9799380622843276\n",
      "1e-15 0.9872827508808513\n",
      "1e-12 0.9927556955410912\n",
      "1e-09 0.9945733344034599\n",
      "1e-06 0.991089587789762\n",
      "0.001 0.7317766956512416\n",
      "1 0.026314121753836992\n",
      "Selected threshold: 1e-09\n",
      "\n",
      "Performance on fold 5\n",
      "    Training set\tTest set\n",
      "AUC 0.9999992446160856 1.0\n",
      "ACC 0.9999933261997824 1.0\n",
      "MCC 0.9945733344034599 1.0\n",
      "CM [[449241      1]\n",
      " [     2    275]] [[112310      0]\n",
      " [     0     69]]\n",
      "           ID       Feature  Class\n",
      "81820  G3LH89  4.000000e-24      0\n",
      "         ID       Feature  Class\n",
      "102  D3GGZ8  2.600000e-07      1\n",
      "125  O62247  7.800000e-09      1\n",
      "Inizialising dataset: Best domain E value\n",
      "\n",
      "Splitting the dataset in 5 Kfolds\n",
      "\n",
      "Training on fold 1\n",
      "1e-30 0.0601745116806767\n",
      "1e-27 0.5548334281529154\n",
      "1e-24 0.7683952083060192\n",
      "1e-21 0.8968005090923632\n",
      "1e-18 0.9686951469599222\n",
      "1e-15 0.983550671935446\n",
      "1e-12 0.9927227566696504\n",
      "1e-09 0.9963680060725786\n",
      "1e-06 0.992827028754596\n",
      "0.001 0.7991664618242402\n",
      "1 0.03937526108355192\n",
      "Selected threshold: 1e-09\n",
      "\n",
      "Performance on fold 1\n",
      "    Training set\tTest set\n",
      "AUC 0.9999999596744248 0.9999969472251548\n",
      "ACC 0.9999955507899573 0.9999911016195052\n",
      "MCC 0.9963680060725786 0.9929283531245002\n",
      "CM [[449242      0]\n",
      " [     2    274]] [[112309      1]\n",
      " [     0     70]]\n",
      "\n",
      "Training on fold 2\n",
      "1e-30 0.060065728367861865\n",
      "1e-27 0.5406396659470473\n",
      "1e-24 0.7599124511750078\n",
      "1e-21 0.8931684052561498\n",
      "1e-18 0.9688168883727846\n",
      "1e-15 0.9836172452282796\n",
      "1e-12 0.9927556955311994\n",
      "1e-09 0.9945733343960319\n",
      "1e-06 0.9893358953739295\n",
      "0.001 0.8090942562427814\n",
      "1 0.03942090004043993\n",
      "Selected threshold: 1e-09\n",
      "\n",
      "Performance on fold 2\n",
      "    Training set\tTest set\n",
      "AUC 0.9999991321101662 0.9999999999999999\n",
      "ACC 0.9999933261849359 1.0\n",
      "MCC 0.9945733343960319 1.0\n",
      "CM [[449240      1]\n",
      " [     2    275]] [[112311      0]\n",
      " [     0     69]]\n",
      "\n",
      "Training on fold 3\n",
      "1e-30 0.060065728367861865\n",
      "1e-27 0.553830401843451\n",
      "1e-24 0.7786854789315447\n",
      "1e-21 0.8931684052561498\n",
      "1e-18 0.9725380428908734\n",
      "1e-15 0.9836172452282796\n",
      "1e-12 0.9927556955311994\n",
      "1e-09 0.996387665720048\n",
      "1e-06 0.9928526312572037\n",
      "0.001 0.8006138092146743\n",
      "1 0.03951034893790707\n",
      "Selected threshold: 1e-09\n",
      "\n",
      "Performance on fold 3\n",
      "    Training set\tTest set\n",
      "AUC 0.9999992205063533 0.9999997419174682\n",
      "ACC 0.9999955507899573 0.9999911016195052\n",
      "MCC 0.996387665720048 0.9927227566893256\n",
      "CM [[449240      1]\n",
      " [     1    276]] [[112311      0]\n",
      " [     1     68]]\n",
      "\n",
      "Training on fold 4\n",
      "/home/saul/miniconda3/envs/LB1/lib/python3.7/site-packages/sklearn/metrics/_classification.py:900: RuntimeWarning: invalid value encountered in double_scalars\n",
      "  mcc = cov_ytyp / np.sqrt(cov_ytyt * cov_ypyp)\n",
      "1e-30 0.0\n",
      "1e-27 0.5505623250835442\n",
      "1e-24 0.7740348465004424\n",
      "1e-21 0.8992129933874421\n",
      "1e-18 0.9762450473616294\n",
      "1e-15 0.9854516981812352\n",
      "1e-12 0.9927556955410912\n",
      "1e-09 0.9963876657250029\n",
      "1e-06 0.991089587789762\n",
      "0.001 0.8148997331558008\n",
      "1 0.03950755172960087\n",
      "Selected threshold: 1e-09\n",
      "\n",
      "Performance on fold 4\n",
      "    Training set\tTest set\n",
      "AUC 0.9999991803280928 1.0\n",
      "ACC 0.9999955507998549 0.9999911015403233\n",
      "MCC 0.9963876657250029 0.9927227566499749\n",
      "CM [[449241      1]\n",
      " [     1    276]] [[112310      0]\n",
      " [     1     68]]\n",
      "\n",
      "Training on fold 5\n",
      "1e-30 0.06006572840890867\n",
      "1e-27 0.5538304021067825\n",
      "1e-24 0.7670061058281796\n",
      "1e-21 0.8911444503817665\n",
      "1e-18 0.974393303797327\n",
      "1e-15 0.9836172452503563\n",
      "1e-12 0.9927556955410912\n",
      "1e-09 0.9945733344034599\n",
      "1e-06 0.991089587789762\n",
      "0.001 0.8158795003909244\n",
      "1 0.03946732311129326\n",
      "Selected threshold: 1e-09\n",
      "\n",
      "Performance on fold 5\n",
      "    Training set\tTest set\n",
      "AUC 0.9999991401480973 1.0\n",
      "ACC 0.9999933261997824 1.0\n",
      "MCC 0.9945733344034599 1.0\n",
      "CM [[449241      1]\n",
      " [     2    275]] [[112310      0]\n",
      " [     0     69]]\n",
      "           ID       Feature  Class\n",
      "81820  G3LH89  4.800000e-24      0\n",
      "         ID       Feature  Class\n",
      "102  D3GGZ8  2.600000e-07      1\n",
      "125  O62247  3.100000e-08      1\n"
     ]
    }
   ],
   "source": [
    "!cross_val.py Global\\ E\\ value Best\\ domain\\ E\\ value"
   ]
  },
  {
   "cell_type": "markdown",
   "metadata": {},
   "source": [
    "Strange values in report"
   ]
  },
  {
   "cell_type": "markdown",
   "metadata": {},
   "source": [
    "## Manual check of the threshold"
   ]
  },
  {
   "cell_type": "code",
   "execution_count": null,
   "metadata": {},
   "outputs": [],
   "source": []
  }
 ],
 "metadata": {
  "kernelspec": {
   "display_name": "Python [conda env:LB1]",
   "language": "python",
   "name": "conda-env-LB1-py"
  },
  "language_info": {
   "codemirror_mode": {
    "name": "ipython",
    "version": 3
   },
   "file_extension": ".py",
   "mimetype": "text/x-python",
   "name": "python",
   "nbconvert_exporter": "python",
   "pygments_lexer": "ipython3",
   "version": "3.7.7"
  }
 },
 "nbformat": 4,
 "nbformat_minor": 4
}
