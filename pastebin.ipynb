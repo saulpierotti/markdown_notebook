{
 "cells": [
  {
   "cell_type": "markdown",
   "metadata": {},
   "source": [
    "# Pastebin for the Kunitz domain project"
   ]
  },
  {
   "cell_type": "markdown",
   "metadata": {},
   "source": [
    "# Structure selection\n",
    "I will collect all the available PDB structures of the Kunitz-BPTI domain. I tried different approaches (see pastebin) but in the end I get way to many structures and there is no need to get crazy.\n",
    "I believe that the Uniprot annotation is the best unbiased source and gives me only a few proteins that I can inspect manually.\n",
    "\n",
    "## Retrieving structures from proteins annotated with the Kunitz Pfam domain in Uniprot\n",
    "I search for Uniprot (rewied and not) entries annotated with the Pfam Kunitz domain that have a 3D structure available.\n",
    "\n",
    "`database:(type:pfam pf00014) database:(type:pdb)`\n",
    "\n",
    "I retrieve only 33 proteins. I save the IDs in `Uniprot_Kunitz_3D.list`."
   ]
  },
  {
   "cell_type": "code",
   "execution_count": 55,
   "metadata": {},
   "outputs": [
    {
     "name": "stdout",
     "output_type": "stream",
     "text": [
      "P08592\n",
      "Q06481\n",
      "P05067\n",
      "Q7TQN3\n",
      "P12111\n",
      "P02760\n",
      "P12023\n",
      "P00974\n",
      "P00981\n",
      "P10646\n"
     ]
    }
   ],
   "source": [
    "!head Uniprot_Kunitz_3D.list"
   ]
  },
  {
   "cell_type": "markdown",
   "metadata": {},
   "source": [
    "I map the 33 entries to all their PDB structures using the ID mapping tool at Uniprot.\n",
    "I retrieve 346 structures. I save the list of PDB IDs in `Uniprot_Kunitz_3D_PDBAC.list`."
   ]
  },
  {
   "cell_type": "code",
   "execution_count": 56,
   "metadata": {},
   "outputs": [
    {
     "name": "stdout",
     "output_type": "stream",
     "text": [
      "1AAL\n",
      "1AAP\n",
      "1ADZ\n",
      "1AMB\n",
      "1AMC\n",
      "1AML\n",
      "1B0C\n",
      "1BA4\n",
      "1BA6\n",
      "1BF0\n"
     ]
    }
   ],
   "source": [
    "!head Uniprot_Kunitz_3D_PDBAC.list"
   ]
  },
  {
   "cell_type": "markdown",
   "metadata": {},
   "source": [
    "This list contains only unique identifiers"
   ]
  },
  {
   "cell_type": "code",
   "execution_count": 57,
   "metadata": {},
   "outputs": [
    {
     "name": "stdout",
     "output_type": "stream",
     "text": [
      "346\n",
      "346\n"
     ]
    }
   ],
   "source": [
    "!cat Uniprot_Kunitz_3D_PDBAC.list|wc -l\n",
    "!cat Uniprot_Kunitz_3D_PDBAC.list|sort -u|wc -l"
   ]
  },
  {
   "cell_type": "markdown",
   "metadata": {},
   "source": [
    "## Retrieving structures in annotated with the Kunitz CATH domain in RCSB PDB\n",
    "\n",
    "I search in the RCSB PDB for entries containing the Kunitz CATH domain.\n",
    "\n",
    "`CathTree Search for Factor Xa Inhibitor (4.10.410.10)`\n",
    "\n",
    "I retrieve 136 matches. The list of PDB IDs is in csv format is in `PDB_CATH_Kunitz.csv`.\n",
    "Now I parse the file in a pandas series."
   ]
  },
  {
   "cell_type": "code",
   "execution_count": null,
   "metadata": {},
   "outputs": [],
   "source": [
    "with open(\"./PDB_CATH_Kunitz.csv\") as PDB_CATH_filein:\n",
    "    PDB_CATH_list = PDB_CATH_filein.read().split(\", \")\n",
    "    PDB_CATH_series = pd.Series(PDB_CATH_list)\n",
    "PDB_CATH_series.head()"
   ]
  },
  {
   "cell_type": "markdown",
   "metadata": {},
   "source": [
    "## Retrieving Kunitz structures with PDBfold\n",
    "I select a prototype structure and scan the PDB for similar structures with PDBfold\n",
    "\n",
    "* Single chain 1 A structure: `5PTI`\n",
    "* Structure in complex with trypsin at 1.8 A: `3TGI`\n",
    "\n",
    "I perform a search on PDBfold with default parameters using chain I of `3TGI`, retrieving 609 matches. I save the result summary in `pdbfold_3tgi.dat`.\n",
    "\n",
    "I perform a search on PDBfold with default parameters using chain A of `5PTI`, retrieving 584 matches.I save the result summary in `pdbfold_5pti.dat`.\n",
    "\n",
    "I will write a short script for parsing the .dat files obtained by PDBfold in a pandas dataframe. It seems that I cannot download the results in a more useful format. First I need to strip the PDB string from all the colums, otherwise it is difficult to parse."
   ]
  },
  {
   "cell_type": "code",
   "execution_count": null,
   "metadata": {},
   "outputs": [],
   "source": [
    "!sed -i 's/PDB / /g' ./pdbfold_*.dat"
   ]
  },
  {
   "cell_type": "code",
   "execution_count": null,
   "metadata": {},
   "outputs": [],
   "source": [
    "def get_pdbfold_df(filepath):\n",
    "    with open(filepath) as dat_filein:\n",
    "        pdbfold_df = pd.read_csv(dat_filein, skiprows=(0, 1, 2, 3), sep=\"\\s+\").set_index('##')\n",
    "    pdbfold_df[\"Query\"]= pdbfold_df[\"Query\"].str.split(\":\")\n",
    "    pdbfold_df[\"Target\"]= pdbfold_df[\"Target\"].str.split(\":\")\n",
    "    return pdbfold_df\n",
    "\n",
    "pdbfold_3tgi_df = get_pdbfold_df(\"./pdbfold_3tgi.dat\")\n",
    "pdbfold_5pti_df = get_pdbfold_df(\"./pdbfold_5pti.dat\")\n",
    "\n",
    "pdbfold_3tgi_df.head()"
   ]
  },
  {
   "cell_type": "markdown",
   "metadata": {},
   "source": [
    "## Merging all the PDB IDs in an unique list\n",
    "Now I want to get a single list of unique target PDB IDs from the files and put them in the list PDBfold_IDs. I get 402 IDs."
   ]
  },
  {
   "cell_type": "code",
   "execution_count": null,
   "metadata": {},
   "outputs": [],
   "source": [
    "def get_PDB_list(df):\n",
    "    PDB_list = []\n",
    "    for element in df['Target']:\n",
    "        ID = element[0].upper()\n",
    "        PDB_list.append(ID)\n",
    "    return PDB_list\n",
    "\n",
    "PDBfold_IDs = []\n",
    "PDBfold_IDs += get_PDB_list(pdbfold_3tgi_df)\n",
    "PDBfold_IDs += get_PDB_list(pdbfold_5pti_df)\n",
    "PDBfold_IDs = list(dict.fromkeys(PDBfold_IDs)) # remove duplicate IDs\n",
    "len(PDBfold_IDs)"
   ]
  },
  {
   "cell_type": "markdown",
   "metadata": {},
   "source": [
    "Now I merge all the PDB IDs retrieve in different ways. This gives me  unique IDs."
   ]
  },
  {
   "cell_type": "code",
   "execution_count": null,
   "metadata": {},
   "outputs": [],
   "source": [
    "PDB_IDs = []\n",
    "print(len(PDB_IDs))\n",
    "PDB_IDs += UniprotPDB_IDs\n",
    "print(len(PDB_IDs))\n",
    "PDB_IDs += PDBfold_IDs\n",
    "print(len(PDB_IDs))\n",
    "PDB_IDs += PDB_CATH_list\n",
    "print(len(PDB_IDs))\n",
    "PDB_IDs = list(dict.fromkeys(PDB_IDs)) # remove duplicate IDs\n",
    "print(len(PDB_IDs))"
   ]
  },
  {
   "cell_type": "markdown",
   "metadata": {},
   "source": [
    "At this point my set of structures will be as complete as possible.\n",
    "First I write all the PDB IDs to `PDB_IDs.list`"
   ]
  },
  {
   "cell_type": "code",
   "execution_count": null,
   "metadata": {},
   "outputs": [],
   "source": [
    "try:\n",
    "    with open(\"./PDB_IDs.list\",\"x\") as PDB_IDs_fileout: # x avoids overwriting files\n",
    "        file_content = \"\\n\".join(PDB_IDs)\n",
    "        PDB_IDs_fileout.write(file_content)\n",
    "except FileExistsError:\n",
    "    pass"
   ]
  },
  {
   "cell_type": "markdown",
   "metadata": {},
   "source": [
    "Now I  map the list to Uniprot ACs using the Uniprot ID mapping tool, so to get a list of single proteins.\n",
    "I get 425 Uniprot IDs, that I save in the `Uniprot_IDs_mappedfromPDB.list`.\n",
    "24 PDB IDs were not mapped. I save them in `PDB_IDs_notmapped.list`.\n",
    "For now I decided to ignore them.\n",
    "The ID list is unique."
   ]
  },
  {
   "cell_type": "code",
   "execution_count": null,
   "metadata": {},
   "outputs": [],
   "source": [
    "!sort ./Uniprot_IDs_mappedfromPDB.list|uniq|wc -l"
   ]
  },
  {
   "cell_type": "markdown",
   "metadata": {},
   "source": [
    " I will find a way to remove duplicate structures.\n",
    "I will find a way to select the right chain in the PDB file.\n",
    "I will find a way to select the right domain in the chain.\n",
    "I will exclude mutated proteins.\n",
    "I will adopt a resulution threshold."
   ]
  }
 ],
 "metadata": {
  "kernelspec": {
   "display_name": "Python [conda env:LB1]",
   "language": "python",
   "name": "conda-env-LB1-py"
  },
  "language_info": {
   "codemirror_mode": {
    "name": "ipython",
    "version": 3
   },
   "file_extension": ".py",
   "mimetype": "text/x-python",
   "name": "python",
   "nbconvert_exporter": "python",
   "pygments_lexer": "ipython3",
   "version": "3.7.7"
  }
 },
 "nbformat": 4,
 "nbformat_minor": 4
}
