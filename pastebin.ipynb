{
 "cells": [
  {
   "cell_type": "markdown",
   "metadata": {},
   "source": [
    "# Pastebin for the Kunitz domain project"
   ]
  },
  {
   "cell_type": "markdown",
   "metadata": {},
   "source": [
    "# Structure selection\n",
    "I will collect all the available PDB structures of the Kunitz-BPTI domain. I tried different approaches (see pastebin) but in the end I get way to many structures and there is no need to get crazy.\n",
    "I believe that the Uniprot annotation is the best unbiased source and gives me only a few proteins that I can inspect manually.\n",
    "\n",
    "## Retrieving structures from proteins annotated with the Kunitz Pfam domain in Uniprot\n",
    "I search for Uniprot (rewied and not) entries annotated with the Pfam Kunitz domain that have a 3D structure available.\n",
    "\n",
    "`database:(type:pfam pf00014) database:(type:pdb)`\n",
    "\n",
    "I retrieve only 33 proteins. I save the IDs in `Uniprot_Kunitz_3D.list`."
   ]
  },
  {
   "cell_type": "code",
   "execution_count": 55,
   "metadata": {},
   "outputs": [
    {
     "name": "stdout",
     "output_type": "stream",
     "text": [
      "P08592\n",
      "Q06481\n",
      "P05067\n",
      "Q7TQN3\n",
      "P12111\n",
      "P02760\n",
      "P12023\n",
      "P00974\n",
      "P00981\n",
      "P10646\n"
     ]
    }
   ],
   "source": [
    "!head Uniprot_Kunitz_3D.list"
   ]
  },
  {
   "cell_type": "markdown",
   "metadata": {},
   "source": [
    "I map the 33 entries to all their PDB structures using the ID mapping tool at Uniprot.\n",
    "I retrieve 346 structures. I save the list of PDB IDs in `Uniprot_Kunitz_3D_PDBAC.list`."
   ]
  },
  {
   "cell_type": "code",
   "execution_count": 56,
   "metadata": {},
   "outputs": [
    {
     "name": "stdout",
     "output_type": "stream",
     "text": [
      "1AAL\n",
      "1AAP\n",
      "1ADZ\n",
      "1AMB\n",
      "1AMC\n",
      "1AML\n",
      "1B0C\n",
      "1BA4\n",
      "1BA6\n",
      "1BF0\n"
     ]
    }
   ],
   "source": [
    "!head Uniprot_Kunitz_3D_PDBAC.list"
   ]
  },
  {
   "cell_type": "markdown",
   "metadata": {},
   "source": [
    "This list contains only unique identifiers"
   ]
  },
  {
   "cell_type": "code",
   "execution_count": 57,
   "metadata": {},
   "outputs": [
    {
     "name": "stdout",
     "output_type": "stream",
     "text": [
      "346\n",
      "346\n"
     ]
    }
   ],
   "source": [
    "!cat Uniprot_Kunitz_3D_PDBAC.list|wc -l\n",
    "!cat Uniprot_Kunitz_3D_PDBAC.list|sort -u|wc -l"
   ]
  },
  {
   "cell_type": "markdown",
   "metadata": {},
   "source": [
    "## Retrieving structures in annotated with the Kunitz CATH domain in RCSB PDB\n",
    "\n",
    "I search in the RCSB PDB for entries containing the Kunitz CATH domain.\n",
    "\n",
    "`CathTree Search for Factor Xa Inhibitor (4.10.410.10)`\n",
    "\n",
    "I retrieve 136 matches. The list of PDB IDs is in csv format is in `PDB_CATH_Kunitz.csv`.\n",
    "Now I parse the file in a pandas series."
   ]
  },
  {
   "cell_type": "code",
   "execution_count": null,
   "metadata": {},
   "outputs": [],
   "source": [
    "with open(\"./PDB_CATH_Kunitz.csv\") as PDB_CATH_filein:\n",
    "    PDB_CATH_list = PDB_CATH_filein.read().split(\", \")\n",
    "    PDB_CATH_series = pd.Series(PDB_CATH_list)\n",
    "PDB_CATH_series.head()"
   ]
  },
  {
   "cell_type": "markdown",
   "metadata": {},
   "source": [
    "## Retrieving Kunitz structures with PDBfold\n",
    "I select a prototype structure and scan the PDB for similar structures with PDBfold\n",
    "\n",
    "* Single chain 1 A structure: `5PTI`\n",
    "* Structure in complex with trypsin at 1.8 A: `3TGI`\n",
    "\n",
    "I perform a search on PDBfold with default parameters using chain I of `3TGI`, retrieving 609 matches. I save the result summary in `pdbfold_3tgi.dat`.\n",
    "\n",
    "I perform a search on PDBfold with default parameters using chain A of `5PTI`, retrieving 584 matches.I save the result summary in `pdbfold_5pti.dat`.\n",
    "\n",
    "I will write a short script for parsing the .dat files obtained by PDBfold in a pandas dataframe. It seems that I cannot download the results in a more useful format. First I need to strip the PDB string from all the colums, otherwise it is difficult to parse."
   ]
  },
  {
   "cell_type": "code",
   "execution_count": null,
   "metadata": {},
   "outputs": [],
   "source": [
    "!sed -i 's/PDB / /g' ./pdbfold_*.dat"
   ]
  },
  {
   "cell_type": "code",
   "execution_count": null,
   "metadata": {},
   "outputs": [],
   "source": [
    "def get_pdbfold_df(filepath):\n",
    "    with open(filepath) as dat_filein:\n",
    "        pdbfold_df = pd.read_csv(dat_filein, skiprows=(0, 1, 2, 3), sep=\"\\s+\").set_index('##')\n",
    "    pdbfold_df[\"Query\"]= pdbfold_df[\"Query\"].str.split(\":\")\n",
    "    pdbfold_df[\"Target\"]= pdbfold_df[\"Target\"].str.split(\":\")\n",
    "    return pdbfold_df\n",
    "\n",
    "pdbfold_3tgi_df = get_pdbfold_df(\"./pdbfold_3tgi.dat\")\n",
    "pdbfold_5pti_df = get_pdbfold_df(\"./pdbfold_5pti.dat\")\n",
    "\n",
    "pdbfold_3tgi_df.head()"
   ]
  },
  {
   "cell_type": "markdown",
   "metadata": {},
   "source": [
    "## Merging all the PDB IDs in an unique list\n",
    "Now I want to get a single list of unique target PDB IDs from the files and put them in the list PDBfold_IDs. I get 402 IDs."
   ]
  },
  {
   "cell_type": "code",
   "execution_count": null,
   "metadata": {},
   "outputs": [],
   "source": [
    "def get_PDB_list(df):\n",
    "    PDB_list = []\n",
    "    for element in df['Target']:\n",
    "        ID = element[0].upper()\n",
    "        PDB_list.append(ID)\n",
    "    return PDB_list\n",
    "\n",
    "PDBfold_IDs = []\n",
    "PDBfold_IDs += get_PDB_list(pdbfold_3tgi_df)\n",
    "PDBfold_IDs += get_PDB_list(pdbfold_5pti_df)\n",
    "PDBfold_IDs = list(dict.fromkeys(PDBfold_IDs)) # remove duplicate IDs\n",
    "len(PDBfold_IDs)"
   ]
  },
  {
   "cell_type": "markdown",
   "metadata": {},
   "source": [
    "Now I merge all the PDB IDs retrieve in different ways. This gives me  unique IDs."
   ]
  },
  {
   "cell_type": "code",
   "execution_count": null,
   "metadata": {},
   "outputs": [],
   "source": [
    "PDB_IDs = []\n",
    "print(len(PDB_IDs))\n",
    "PDB_IDs += UniprotPDB_IDs\n",
    "print(len(PDB_IDs))\n",
    "PDB_IDs += PDBfold_IDs\n",
    "print(len(PDB_IDs))\n",
    "PDB_IDs += PDB_CATH_list\n",
    "print(len(PDB_IDs))\n",
    "PDB_IDs = list(dict.fromkeys(PDB_IDs)) # remove duplicate IDs\n",
    "print(len(PDB_IDs))"
   ]
  },
  {
   "cell_type": "markdown",
   "metadata": {},
   "source": [
    "At this point my set of structures will be as complete as possible.\n",
    "First I write all the PDB IDs to `PDB_IDs.list`"
   ]
  },
  {
   "cell_type": "code",
   "execution_count": null,
   "metadata": {},
   "outputs": [],
   "source": [
    "try:\n",
    "    with open(\"./PDB_IDs.list\",\"x\") as PDB_IDs_fileout: # x avoids overwriting files\n",
    "        file_content = \"\\n\".join(PDB_IDs)\n",
    "        PDB_IDs_fileout.write(file_content)\n",
    "except FileExistsError:\n",
    "    pass"
   ]
  },
  {
   "cell_type": "markdown",
   "metadata": {},
   "source": [
    "Now I  map the list to Uniprot ACs using the Uniprot ID mapping tool, so to get a list of single proteins.\n",
    "I get 425 Uniprot IDs, that I save in the `Uniprot_IDs_mappedfromPDB.list`.\n",
    "24 PDB IDs were not mapped. I save them in `PDB_IDs_notmapped.list`.\n",
    "For now I decided to ignore them.\n",
    "The ID list is unique."
   ]
  },
  {
   "cell_type": "code",
   "execution_count": null,
   "metadata": {},
   "outputs": [],
   "source": [
    "!sort ./Uniprot_IDs_mappedfromPDB.list|uniq|wc -l"
   ]
  },
  {
   "cell_type": "markdown",
   "metadata": {},
   "source": [
    " I will find a way to remove duplicate structures.\n",
    "I will find a way to select the right chain in the PDB file.\n",
    "I will find a way to select the right domain in the chain.\n",
    "I will exclude mutated proteins.\n",
    "I will adopt a resulution threshold."
   ]
  },
  {
   "cell_type": "markdown",
   "metadata": {},
   "source": [
    "Now I scrable my databases"
   ]
  },
  {
   "cell_type": "code",
   "execution_count": 155,
   "metadata": {},
   "outputs": [
    {
     "name": "stdout",
     "output_type": "stream",
     "text": [
      "346\n",
      "561552\n"
     ]
    }
   ],
   "source": [
    "!scramble_fasta.py positives_all_cleaned.fasta|tee positives_all_cleaned_scrambled.fasta|grep \">\"|wc -l\n",
    "!scramble_fasta.py negatives_all.fasta|tee negatives_all_scrambled.fasta|grep \">\"|wc -l"
   ]
  },
  {
   "cell_type": "code",
   "execution_count": 157,
   "metadata": {},
   "outputs": [
    {
     "name": "stdout",
     "output_type": "stream",
     "text": [
      "173.0\n"
     ]
    },
    {
     "data": {
      "text/plain": [
       "280776.0"
      ]
     },
     "execution_count": 157,
     "metadata": {},
     "output_type": "execute_result"
    }
   ],
   "source": [
    "print(346/2)\n",
    "561552/2"
   ]
  },
  {
   "cell_type": "code",
   "execution_count": 173,
   "metadata": {},
   "outputs": [
    {
     "name": "stdout",
     "output_type": "stream",
     "text": [
      "347:>sp|A8Y7N5|VKTC2_DABSI Kunitz-type serine protease inhibitor C2 OS=Daboia siamensis OX=343250 PE=2 SV=1\n",
      "561553:>sp|A9MCV8|TRUA_BRUC2 tRNA pseudouridine synthase A OS=Brucella canis (strain ATCC 23365 / NCTC 10854) OX=483179 GN=truA PE=3 SV=1\n"
     ]
    }
   ],
   "source": [
    "!cat positives_all_cleaned_scrambled.fasta|grep -m 174 \">\" -n|tail -1\n",
    "!cat negatives_all_scrambled.fasta|grep -m 280777 \">\" -n|tail -1"
   ]
  },
  {
   "cell_type": "code",
   "execution_count": 160,
   "metadata": {},
   "outputs": [
    {
     "name": "stdout",
     "output_type": "stream",
     "text": [
      "173\n",
      "173\n"
     ]
    }
   ],
   "source": [
    "!cat positives_all_cleaned_scrambled.fasta|head -346|tee positives_set1.fasta|grep \">\"|wc -l\n",
    "!cat positives_all_cleaned_scrambled.fasta|tail +347|tee positives_set2.fasta|grep \">\"|wc -l"
   ]
  },
  {
   "cell_type": "code",
   "execution_count": 168,
   "metadata": {},
   "outputs": [
    {
     "name": "stdout",
     "output_type": "stream",
     "text": [
      "280776\n",
      "280776\n"
     ]
    }
   ],
   "source": [
    "!cat negatives_all_scrambled.fasta|head -561552|tee negatives_set1.fasta|grep \">\"|wc -l\n",
    "!cat negatives_all_scrambled.fasta|tail +561553|tee negatives_set2.fasta|grep \">\"|wc -l"
   ]
  },
  {
   "cell_type": "code",
   "execution_count": 172,
   "metadata": {},
   "outputs": [
    {
     "name": "stdout",
     "output_type": "stream",
     "text": [
      "MGTARFLSAVLLLSVLLMVTFPALLSAEYHDGRVDICSLPSDSGDRLRFFEMWYFDGTTCTKFVYGGYGGNDNRFPTEKACMKRCAKA\n",
      ">sp|A8Y7N5|VKTC2_DABSI Kunitz-type serine protease inhibitor C2 OS=Daboia siamensis OX=343250 PE=2 SV=1\n",
      "MDLTPSPRKHRSVSHSQSSDSGPPSSTKSNSGVPAGSNRKGFNINIAVSPISVSSPPVSHKHTLTRSHSHSSKHRRGSSASTNNPLPQLLEDADGPQLPEWPQPANESQGLRYNLELPSDEHLASLDIDDQLKFLALKEMGIVELKDKISQLNSILHKGEKDLHRLRELVQRSLYKEMSAGYTGSSKHVRQSSNPRDEAIASTKNRTRRRTLSSSSSPSKYLPVPEQSEPDSKSRLWSNLSKPLGFIQQFDSMLQNEFERSLIPQVSNSANPQPRTSEESYQSPLRSRSKNNDVDLPTEWTSSRSSSPQRASRNPEEMFQAVSSSIWSFVNDVRENMLPPREEEEKDKELYNLDNGSTVSVENMNNSDYDETTTETLPRRRSRQNSNAIDK\n",
      ">sp|A9MCV8|TRUA_BRUC2 tRNA pseudouridine synthase A OS=Brucella canis (strain ATCC 23365 / NCTC 10854) OX=483179 GN=truA PE=3 SV=1\n"
     ]
    }
   ],
   "source": [
    "!cat positives_set1.fasta|tail -1\n",
    "!cat positives_set2.fasta|head -1\n",
    "!cat negatives_set1.fasta|tail -1\n",
    "!cat negatives_set2.fasta|head -1"
   ]
  },
  {
   "cell_type": "code",
   "execution_count": 174,
   "metadata": {},
   "outputs": [
    {
     "name": "stdout",
     "output_type": "stream",
     "text": [
      "173\n",
      "173\n",
      "280776\n",
      "280776\n"
     ]
    }
   ],
   "source": [
    "!grep \">\" positives_set1.fasta|wc -l\n",
    "!grep \">\" positives_set2.fasta|wc -l\n",
    "!grep \">\" negatives_set1.fasta|wc -l\n",
    "!grep \">\" negatives_set2.fasta|wc -l"
   ]
  },
  {
   "cell_type": "markdown",
   "metadata": {},
   "source": [
    "## HMM search\n",
    "I use HMM search for obtaining an E-value on all datasets.\n",
    "I use the -max flag to disable all heuristics."
   ]
  },
  {
   "cell_type": "code",
   "execution_count": 176,
   "metadata": {},
   "outputs": [
    {
     "name": "stdout",
     "output_type": "stream",
     "text": [
      "2543\n",
      "2543\n",
      "258\n",
      "114\n"
     ]
    }
   ],
   "source": [
    "!hmmsearch --max --tblout positives_set1.hmmsearch.tbl kunitz_bpti.hmm positives_set1.fasta|tee positives_set1.hmmsearch|wc -l\n",
    "!hmmsearch --max --tblout positives_set2.hmmsearch.tbl kunitz_bpti.hmm positives_set2.fasta|tee positives_set2.hmmsearch|wc -l\n",
    "!hmmsearch --max --tblout negatives_set1.hmmsearch.tbl kunitz_bpti.hmm negatives_set1.fasta|tee negatives_set1.hmmsearch|wc -l\n",
    "!hmmsearch --max --tblout negatives_set2.hmmsearch.tbl kunitz_bpti.hmm negatives_set2.fasta|tee negatives_set2.hmmsearch|wc -l"
   ]
  },
  {
   "cell_type": "markdown",
   "metadata": {},
   "source": [
    "## Parsing ang creation of the draft datasets\n",
    "I parse the output of hmmsearch and output something that I can use with the model_performance.py script.\n",
    "I create my own script for doing this.\n",
    "I am sorting unique entries already in my script.\n",
    "Note that these are only the positive scores. I need to add the missing IDs."
   ]
  },
  {
   "cell_type": "code",
   "execution_count": 177,
   "metadata": {},
   "outputs": [
    {
     "name": "stdout",
     "output_type": "stream",
     "text": [
      "173\n",
      "173\n",
      "16\n",
      "6\n"
     ]
    }
   ],
   "source": [
    "!hmmalign_to_dataset.sh positives_set1.hmmsearch.tbl 1|tee positives_set1.dat|wc -l\n",
    "!hmmalign_to_dataset.sh positives_set2.hmmsearch.tbl 1|tee positives_set2.dat|wc -l\n",
    "!hmmalign_to_dataset.sh negatives_set1.hmmsearch.tbl 0|tee negatives_set1.dat|wc -l\n",
    "!hmmalign_to_dataset.sh negatives_set2.hmmsearch.tbl 0|tee negatives_set2.dat|wc -l"
   ]
  },
  {
   "cell_type": "markdown",
   "metadata": {},
   "source": [
    "## Completion of the dataset\n",
    "Now I add the missing IDs by using my scripts."
   ]
  },
  {
   "cell_type": "code",
   "execution_count": 178,
   "metadata": {},
   "outputs": [
    {
     "name": "stdout",
     "output_type": "stream",
     "text": [
      "173\n",
      "173\n",
      "280776\n",
      "280776\n"
     ]
    }
   ],
   "source": [
    "!ID_from_uniprot_fasta.sh positives_set1.fasta|tee positives_set1.list|wc -l #.list have the IDs!!\n",
    "!ID_from_uniprot_fasta.sh positives_set2.fasta|tee positives_set2.list|wc -l\n",
    "!ID_from_uniprot_fasta.sh negatives_set1.fasta|tee negatives_set1.list|wc -l\n",
    "!ID_from_uniprot_fasta.sh negatives_set2.fasta|tee negatives_set2.list|wc -l"
   ]
  },
  {
   "cell_type": "code",
   "execution_count": 188,
   "metadata": {},
   "outputs": [
    {
     "name": "stdout",
     "output_type": "stream",
     "text": [
      "P0CAR0 9.3e-12 1\n",
      "D3GGZ8 4.6e-05 1\n",
      "Q9FF80 29 0\n",
      "Q07494 25 0\n"
     ]
    }
   ],
   "source": [
    "!cat positives_set1.dat|sort -grk 2|head -1 # the worst score\n",
    "!cat positives_set2.dat|sort -grk 2|head -1\n",
    "!cat negatives_set1.dat|sort -grk 2|head -1\n",
    "!cat negatives_set2.dat|sort -grk 2|head -1"
   ]
  },
  {
   "cell_type": "code",
   "execution_count": 181,
   "metadata": {},
   "outputs": [
    {
     "name": "stdout",
     "output_type": "stream",
     "text": [
      "173\n",
      "173\n",
      "280776\n",
      "280776\n"
     ]
    }
   ],
   "source": [
    "!add_missing_IDs.sh positives_set1.dat positives_set1.list 30 0|tee positives_set1_complete.dat|wc -l # .dat are the dataset obtained from hmmsearch!\n",
    "!add_missing_IDs.sh positives_set2.dat positives_set2.list 30 0|tee positives_set2_complete.dat|wc -l # .dat are the dataset obtained from hmmsearch!\n",
    "!add_missing_IDs.sh negatives_set1.dat negatives_set1.list 30 0|tee negatives_set1_complete.dat|wc -l\n",
    "!add_missing_IDs.sh negatives_set2.dat negatives_set2.list 30 0|tee negatives_set2_complete.dat|wc -l"
   ]
  },
  {
   "cell_type": "markdown",
   "metadata": {},
   "source": [
    "## Merging of positives and negatives"
   ]
  },
  {
   "cell_type": "code",
   "execution_count": 182,
   "metadata": {},
   "outputs": [],
   "source": [
    "!cat positives_set1_complete.dat negatives_set1_complete.dat > set1.dat\n",
    "!cat positives_set2_complete.dat negatives_set2_complete.dat > set2.dat"
   ]
  },
  {
   "cell_type": "code",
   "execution_count": 183,
   "metadata": {},
   "outputs": [
    {
     "name": "stdout",
     "output_type": "stream",
     "text": [
      "280949\n",
      "280949\n"
     ]
    }
   ],
   "source": [
    "!cat set1.dat|wc -l\n",
    "!cat set2.dat|wc -l"
   ]
  },
  {
   "cell_type": "markdown",
   "metadata": {},
   "source": [
    "# Calculation of the confusion matrix\n",
    "I first want to see the best scores of the negatives and the worst scores for the positives in the training set.\n",
    "G3LH89 is in the negative group but seems indeed to have a prosite-annotated Kunitz-BPTI domain."
   ]
  },
  {
   "cell_type": "code",
   "execution_count": 205,
   "metadata": {},
   "outputs": [
    {
     "name": "stdout",
     "output_type": "stream",
     "text": [
      "Q63870 1.4e-17 1\n",
      "B5L5Q3 1.7e-17 1\n",
      "P0DMW9 1.1e-15 1\n",
      "C0LNR2 3.5e-15 1\n",
      "P0DMW8 9.8e-15 1\n",
      "Q7Z1K3 1.9e-14 1\n",
      "Q2ES49 3e-14 1\n",
      "H2A0N1 1e-13 1\n",
      "P26226 7.5e-12 1\n",
      "P0CAR0 9.3e-12 1\n",
      "\n",
      "G3LH89 1.4e-18 0\n",
      "P56409 0.00098 0\n",
      "P84555 0.003 0\n",
      "P83605 0.044 0\n",
      "P0DJ63 0.17 0\n",
      "P84556 0.73 0\n",
      "P36235 0.78 0\n",
      "P71089 1.2 0\n",
      "P85040 1.2 0\n",
      "P83604 3.3 0\n"
     ]
    }
   ],
   "source": [
    "!cat set1.dat|awk '{if($3==1){print $0}}'|sort -gk 2|tail # the worst score of the positives\n",
    "!echo\n",
    "!cat set1.dat|awk '{if($3==0){print $0}}'|sort -gk 2|head # the best score of the negatives"
   ]
  },
  {
   "cell_type": "code",
   "execution_count": 208,
   "metadata": {},
   "outputs": [
    {
     "name": "stdout",
     "output_type": "stream",
     "text": [
      "Confusion matrix:\n",
      "(173, 2)\n",
      "(280774, 0)\n",
      "\n",
      "ACC: 0.9999928812702661 MCC: 0.9942657526348435\n",
      "Confusion matrix:\n",
      "(173, 0)\n",
      "(280776, 0)\n",
      "\n",
      "ACC: 1.0 MCC: 1.0\n"
     ]
    }
   ],
   "source": [
    "!model_stats.py set1.dat 1e-3\n",
    "!model_stats.py set2.dat 1e-3"
   ]
  }
 ],
 "metadata": {
  "kernelspec": {
   "display_name": "Python [conda env:LB1]",
   "language": "python",
   "name": "conda-env-LB1-py"
  },
  "language_info": {
   "codemirror_mode": {
    "name": "ipython",
    "version": 3
   },
   "file_extension": ".py",
   "mimetype": "text/x-python",
   "name": "python",
   "nbconvert_exporter": "python",
   "pygments_lexer": "ipython3",
   "version": "3.7.7"
  }
 },
 "nbformat": 4,
 "nbformat_minor": 4
}
